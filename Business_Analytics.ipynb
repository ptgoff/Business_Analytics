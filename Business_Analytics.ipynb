{
 "cells": [
  {
   "cell_type": "markdown",
   "metadata": {},
   "source": [
    "## Importing Netflix data\n",
    "Thanks to [Shubham](https://www.kaggle.com/shubham47/eda-on-netflix-prize/data) for this code snippit"
   ]
  },
  {
   "cell_type": "code",
   "execution_count": 4,
   "metadata": {
    "execution": {
     "iopub.execute_input": "2021-04-24T01:14:58.078009Z",
     "iopub.status.busy": "2021-04-24T01:14:58.077775Z",
     "iopub.status.idle": "2021-04-24T01:14:59.814902Z",
     "shell.execute_reply": "2021-04-24T01:14:59.813504Z",
     "shell.execute_reply.started": "2021-04-24T01:14:58.077985Z"
    }
   },
   "outputs": [],
   "source": [
    "from datetime import datetime\n",
    "import os\n",
    "import random\n",
    "import matplotlib\n",
    "import pandas as pd\n",
    "import numpy as np\n",
    "\n",
    "import matplotlib.pyplot as plt\n",
    "import seaborn as sns\n",
    "sns.set_style('whitegrid')"
   ]
  },
  {
   "cell_type": "code",
   "execution_count": 5,
   "metadata": {
    "execution": {
     "iopub.execute_input": "2021-04-24T01:14:59.816467Z",
     "iopub.status.busy": "2021-04-24T01:14:59.816289Z",
     "iopub.status.idle": "2021-04-24T01:17:05.573876Z",
     "shell.execute_reply": "2021-04-24T01:17:05.572902Z",
     "shell.execute_reply.started": "2021-04-24T01:14:59.816448Z"
    }
   },
   "outputs": [
    {
     "name": "stdout",
     "output_type": "stream",
     "text": [
      "reading ratings from ./combined_data_1.txt...\n",
      "Done.\n",
      "\n",
      "reading ratings from ./combined_data_2.txt...\n",
      "Done.\n",
      "\n",
      "reading ratings from ./combined_data_3.txt...\n",
      "Done.\n",
      "\n",
      "reading ratings from ./combined_data_4.txt...\n",
      "Done.\n",
      "\n"
     ]
    }
   ],
   "source": [
    "if not os.path.isfile('data.csv'):\n",
    "    #read all txt file and store them in one big file\n",
    "    data = open('NF_data.csv', mode='w')\n",
    "    row = list()\n",
    "    files = ['./combined_data_1.txt', './combined_data_2.txt',\n",
    "            './combined_data_3.txt', './combined_data_4.txt']\n",
    "    for file in files:\n",
    "        print('reading ratings from {}...'.format(file))\n",
    "        with open(file) as f:\n",
    "            for line in f:\n",
    "                del row[:]\n",
    "                line = line.strip()\n",
    "                if line.endswith(':'):\n",
    "                    #all are rating\n",
    "                    movid_id = line.replace(':', '')\n",
    "                else:\n",
    "                    row = [x for x in line.split(',')]\n",
    "                    row.insert(0, movid_id)\n",
    "                    data.write(','.join(row))\n",
    "                    data.write('\\n')\n",
    "        print('Done.\\n')\n",
    "    data.close()"
   ]
  },
  {
   "cell_type": "code",
   "execution_count": 6,
   "metadata": {
    "execution": {
     "iopub.execute_input": "2021-04-24T01:17:05.576845Z",
     "iopub.status.busy": "2021-04-24T01:17:05.576533Z",
     "iopub.status.idle": "2021-04-24T01:19:49.740810Z",
     "shell.execute_reply": "2021-04-24T01:19:49.739338Z",
     "shell.execute_reply.started": "2021-04-24T01:17:05.576809Z"
    }
   },
   "outputs": [
    {
     "name": "stdout",
     "output_type": "stream",
     "text": [
      "creating the dataframe from data.csv file..\n",
      "Done.\n",
      "\n",
      "sorting the dataframe by date..\n",
      "sorting done.\n"
     ]
    }
   ],
   "source": [
    "print('creating the dataframe from data.csv file..')\n",
    "df = pd.read_csv('NF_data.csv', sep=',', names=['movie','user','rating','date'])\n",
    "\n",
    "df.date = pd.to_datetime(df.date)\n",
    "print('Done.\\n')\n",
    "\n",
    "#arranging the rating according to time\n",
    "print('sorting the dataframe by date..')\n",
    "df.sort_values(by='date', inplace=True)\n",
    "print('sorting done.')"
   ]
  },
  {
   "cell_type": "markdown",
   "metadata": {},
   "source": [
    "Checking for null values:"
   ]
  },
  {
   "cell_type": "code",
   "execution_count": 7,
   "metadata": {
    "execution": {
     "iopub.execute_input": "2021-04-24T01:19:49.746573Z",
     "iopub.status.busy": "2021-04-24T01:19:49.746291Z",
     "iopub.status.idle": "2021-04-24T01:19:50.107545Z",
     "shell.execute_reply": "2021-04-24T01:19:50.107037Z",
     "shell.execute_reply.started": "2021-04-24T01:19:49.746538Z"
    }
   },
   "outputs": [
    {
     "name": "stdout",
     "output_type": "stream",
     "text": [
      "number of NaN values in our dataset: 0\n"
     ]
    }
   ],
   "source": [
    "print('number of NaN values in our dataset:', sum(df.isnull().any()))"
   ]
  },
  {
   "cell_type": "markdown",
   "metadata": {},
   "source": [
    "Checking for duplicates:"
   ]
  },
  {
   "cell_type": "code",
   "execution_count": 8,
   "metadata": {
    "execution": {
     "iopub.execute_input": "2021-04-24T01:19:50.109264Z",
     "iopub.status.busy": "2021-04-24T01:19:50.109022Z",
     "iopub.status.idle": "2021-04-24T01:20:23.646857Z",
     "shell.execute_reply": "2021-04-24T01:20:23.646104Z",
     "shell.execute_reply.started": "2021-04-24T01:19:50.109239Z"
    }
   },
   "outputs": [
    {
     "name": "stdout",
     "output_type": "stream",
     "text": [
      "there are 0 duplicate ratings entries in the data.\n"
     ]
    }
   ],
   "source": [
    "dup = df.duplicated(['movie','user','rating'])\n",
    "dups = sum(dup) #considering by column\n",
    "print('there are {} duplicate ratings entries in the data.'.format(dups))"
   ]
  },
  {
   "cell_type": "markdown",
   "metadata": {},
   "source": [
    "Dataset summary:"
   ]
  },
  {
   "cell_type": "code",
   "execution_count": 9,
   "metadata": {
    "execution": {
     "iopub.execute_input": "2021-04-24T01:20:23.649760Z",
     "iopub.status.busy": "2021-04-24T01:20:23.649549Z",
     "iopub.status.idle": "2021-04-24T01:20:35.842663Z",
     "shell.execute_reply": "2021-04-24T01:20:35.841726Z",
     "shell.execute_reply.started": "2021-04-24T01:20:23.649738Z"
    }
   },
   "outputs": [
    {
     "name": "stdout",
     "output_type": "stream",
     "text": [
      "\n",
      "Total number of ratings: 100,480,507\n",
      "Total number of users: 480,189\n",
      "total number of movies: 17,770\n"
     ]
    }
   ],
   "source": [
    "print(f\"\\nTotal number of ratings: {df.shape[0]:,.0f}\")\n",
    "print(f'Total number of users: {len(np.unique(df.user)):,.0f}')\n",
    "print(f'total number of movies: {len(np.unique(df.movie)):,.0f}')"
   ]
  },
  {
   "cell_type": "markdown",
   "metadata": {},
   "source": [
    "Merge in movie names:"
   ]
  },
  {
   "cell_type": "code",
   "execution_count": 10,
   "metadata": {
    "execution": {
     "iopub.execute_input": "2021-04-24T01:20:35.845106Z",
     "iopub.status.busy": "2021-04-24T01:20:35.844827Z",
     "iopub.status.idle": "2021-04-24T01:20:35.971506Z",
     "shell.execute_reply": "2021-04-24T01:20:35.970636Z",
     "shell.execute_reply.started": "2021-04-24T01:20:35.845084Z"
    }
   },
   "outputs": [
    {
     "name": "stdout",
     "output_type": "stream",
     "text": [
      "Tokenization took: 4.82 ms\n",
      "Type conversion took: 27.29 ms\n",
      "Parser memory cleanup took: 0.01 ms\n"
     ]
    }
   ],
   "source": [
    "movie_titles = pd.read_csv(\"./movie_titles.csv\", sep=',', header=None, names=['movie_id', 'year_of_release', 'title'], verbose=True, index_col='movie_id', encoding='ISO-8859-1')"
   ]
  },
  {
   "cell_type": "code",
   "execution_count": 11,
   "metadata": {
    "execution": {
     "iopub.execute_input": "2021-04-24T01:20:35.980351Z",
     "iopub.status.busy": "2021-04-24T01:20:35.980102Z",
     "iopub.status.idle": "2021-04-24T01:20:36.030870Z",
     "shell.execute_reply": "2021-04-24T01:20:36.030316Z",
     "shell.execute_reply.started": "2021-04-24T01:20:35.980327Z"
    }
   },
   "outputs": [
    {
     "data": {
      "text/html": [
       "<div>\n",
       "<style scoped>\n",
       "    .dataframe tbody tr th:only-of-type {\n",
       "        vertical-align: middle;\n",
       "    }\n",
       "\n",
       "    .dataframe tbody tr th {\n",
       "        vertical-align: top;\n",
       "    }\n",
       "\n",
       "    .dataframe thead th {\n",
       "        text-align: right;\n",
       "    }\n",
       "</style>\n",
       "<table border=\"1\" class=\"dataframe\">\n",
       "  <thead>\n",
       "    <tr style=\"text-align: right;\">\n",
       "      <th></th>\n",
       "      <th>movie</th>\n",
       "      <th>user</th>\n",
       "      <th>rating</th>\n",
       "      <th>date</th>\n",
       "    </tr>\n",
       "  </thead>\n",
       "  <tbody>\n",
       "    <tr>\n",
       "      <th>56431994</th>\n",
       "      <td>10341</td>\n",
       "      <td>510180</td>\n",
       "      <td>4</td>\n",
       "      <td>1999-11-11</td>\n",
       "    </tr>\n",
       "  </tbody>\n",
       "</table>\n",
       "</div>"
      ],
      "text/plain": [
       "          movie    user  rating       date\n",
       "56431994  10341  510180       4 1999-11-11"
      ]
     },
     "execution_count": 11,
     "metadata": {},
     "output_type": "execute_result"
    }
   ],
   "source": [
    "df.head(1)"
   ]
  },
  {
   "cell_type": "code",
   "execution_count": 12,
   "metadata": {
    "execution": {
     "iopub.execute_input": "2021-04-24T01:20:36.034385Z",
     "iopub.status.busy": "2021-04-24T01:20:36.034095Z",
     "iopub.status.idle": "2021-04-24T01:20:36.047391Z",
     "shell.execute_reply": "2021-04-24T01:20:36.046494Z",
     "shell.execute_reply.started": "2021-04-24T01:20:36.034355Z"
    }
   },
   "outputs": [
    {
     "data": {
      "text/html": [
       "<div>\n",
       "<style scoped>\n",
       "    .dataframe tbody tr th:only-of-type {\n",
       "        vertical-align: middle;\n",
       "    }\n",
       "\n",
       "    .dataframe tbody tr th {\n",
       "        vertical-align: top;\n",
       "    }\n",
       "\n",
       "    .dataframe thead th {\n",
       "        text-align: right;\n",
       "    }\n",
       "</style>\n",
       "<table border=\"1\" class=\"dataframe\">\n",
       "  <thead>\n",
       "    <tr style=\"text-align: right;\">\n",
       "      <th></th>\n",
       "      <th>year_of_release</th>\n",
       "      <th>title</th>\n",
       "    </tr>\n",
       "    <tr>\n",
       "      <th>movie_id</th>\n",
       "      <th></th>\n",
       "      <th></th>\n",
       "    </tr>\n",
       "  </thead>\n",
       "  <tbody>\n",
       "    <tr>\n",
       "      <th>1</th>\n",
       "      <td>2003.0</td>\n",
       "      <td>Dinosaur Planet</td>\n",
       "    </tr>\n",
       "  </tbody>\n",
       "</table>\n",
       "</div>"
      ],
      "text/plain": [
       "          year_of_release            title\n",
       "movie_id                                  \n",
       "1                  2003.0  Dinosaur Planet"
      ]
     },
     "execution_count": 12,
     "metadata": {},
     "output_type": "execute_result"
    }
   ],
   "source": [
    "movie_titles.head(1)"
   ]
  },
  {
   "cell_type": "code",
   "execution_count": 13,
   "metadata": {
    "execution": {
     "iopub.execute_input": "2021-04-24T01:20:36.049107Z",
     "iopub.status.busy": "2021-04-24T01:20:36.048744Z",
     "iopub.status.idle": "2021-04-24T01:20:58.148444Z",
     "shell.execute_reply": "2021-04-24T01:20:58.147632Z",
     "shell.execute_reply.started": "2021-04-24T01:20:36.049053Z"
    }
   },
   "outputs": [],
   "source": [
    "df = df.merge(movie_titles, left_on='movie', right_on='movie_id')"
   ]
  },
  {
   "cell_type": "code",
   "execution_count": 14,
   "metadata": {
    "execution": {
     "iopub.execute_input": "2021-04-24T01:20:58.152328Z",
     "iopub.status.busy": "2021-04-24T01:20:58.152071Z",
     "iopub.status.idle": "2021-04-24T01:20:58.169648Z",
     "shell.execute_reply": "2021-04-24T01:20:58.168452Z",
     "shell.execute_reply.started": "2021-04-24T01:20:58.152303Z"
    }
   },
   "outputs": [
    {
     "data": {
      "text/html": [
       "<div>\n",
       "<style scoped>\n",
       "    .dataframe tbody tr th:only-of-type {\n",
       "        vertical-align: middle;\n",
       "    }\n",
       "\n",
       "    .dataframe tbody tr th {\n",
       "        vertical-align: top;\n",
       "    }\n",
       "\n",
       "    .dataframe thead th {\n",
       "        text-align: right;\n",
       "    }\n",
       "</style>\n",
       "<table border=\"1\" class=\"dataframe\">\n",
       "  <thead>\n",
       "    <tr style=\"text-align: right;\">\n",
       "      <th></th>\n",
       "      <th>movie</th>\n",
       "      <th>user</th>\n",
       "      <th>rating</th>\n",
       "      <th>date</th>\n",
       "      <th>year_of_release</th>\n",
       "      <th>title</th>\n",
       "    </tr>\n",
       "  </thead>\n",
       "  <tbody>\n",
       "    <tr>\n",
       "      <th>0</th>\n",
       "      <td>10341</td>\n",
       "      <td>510180</td>\n",
       "      <td>4</td>\n",
       "      <td>1999-11-11</td>\n",
       "      <td>1996.0</td>\n",
       "      <td>Ponette</td>\n",
       "    </tr>\n",
       "    <tr>\n",
       "      <th>1</th>\n",
       "      <td>10341</td>\n",
       "      <td>535765</td>\n",
       "      <td>4</td>\n",
       "      <td>2000-01-06</td>\n",
       "      <td>1996.0</td>\n",
       "      <td>Ponette</td>\n",
       "    </tr>\n",
       "    <tr>\n",
       "      <th>2</th>\n",
       "      <td>10341</td>\n",
       "      <td>1434685</td>\n",
       "      <td>5</td>\n",
       "      <td>2000-01-07</td>\n",
       "      <td>1996.0</td>\n",
       "      <td>Ponette</td>\n",
       "    </tr>\n",
       "    <tr>\n",
       "      <th>3</th>\n",
       "      <td>10341</td>\n",
       "      <td>1308236</td>\n",
       "      <td>3</td>\n",
       "      <td>2000-01-08</td>\n",
       "      <td>1996.0</td>\n",
       "      <td>Ponette</td>\n",
       "    </tr>\n",
       "    <tr>\n",
       "      <th>4</th>\n",
       "      <td>10341</td>\n",
       "      <td>1983971</td>\n",
       "      <td>3</td>\n",
       "      <td>2000-01-08</td>\n",
       "      <td>1996.0</td>\n",
       "      <td>Ponette</td>\n",
       "    </tr>\n",
       "  </tbody>\n",
       "</table>\n",
       "</div>"
      ],
      "text/plain": [
       "   movie     user  rating       date  year_of_release    title\n",
       "0  10341   510180       4 1999-11-11           1996.0  Ponette\n",
       "1  10341   535765       4 2000-01-06           1996.0  Ponette\n",
       "2  10341  1434685       5 2000-01-07           1996.0  Ponette\n",
       "3  10341  1308236       3 2000-01-08           1996.0  Ponette\n",
       "4  10341  1983971       3 2000-01-08           1996.0  Ponette"
      ]
     },
     "execution_count": 14,
     "metadata": {},
     "output_type": "execute_result"
    }
   ],
   "source": [
    "df.head()"
   ]
  },
  {
   "cell_type": "markdown",
   "metadata": {},
   "source": [
    "Netflix movies only"
   ]
  },
  {
   "cell_type": "code",
   "execution_count": 15,
   "metadata": {
    "execution": {
     "iopub.execute_input": "2021-04-24T01:20:58.171533Z",
     "iopub.status.busy": "2021-04-24T01:20:58.171078Z",
     "iopub.status.idle": "2021-04-24T01:21:18.555391Z",
     "shell.execute_reply": "2021-04-24T01:21:18.552940Z",
     "shell.execute_reply.started": "2021-04-24T01:20:58.171503Z"
    }
   },
   "outputs": [],
   "source": [
    "nfm = df.groupby(['movie', 'title', 'year_of_release'], as_index=False)['rating'].mean()"
   ]
  },
  {
   "cell_type": "code",
   "execution_count": 16,
   "metadata": {
    "execution": {
     "iopub.execute_input": "2021-04-24T01:21:18.558823Z",
     "iopub.status.busy": "2021-04-24T01:21:18.558540Z",
     "iopub.status.idle": "2021-04-24T01:21:18.577244Z",
     "shell.execute_reply": "2021-04-24T01:21:18.576376Z",
     "shell.execute_reply.started": "2021-04-24T01:21:18.558783Z"
    }
   },
   "outputs": [
    {
     "data": {
      "text/html": [
       "<div>\n",
       "<style scoped>\n",
       "    .dataframe tbody tr th:only-of-type {\n",
       "        vertical-align: middle;\n",
       "    }\n",
       "\n",
       "    .dataframe tbody tr th {\n",
       "        vertical-align: top;\n",
       "    }\n",
       "\n",
       "    .dataframe thead th {\n",
       "        text-align: right;\n",
       "    }\n",
       "</style>\n",
       "<table border=\"1\" class=\"dataframe\">\n",
       "  <thead>\n",
       "    <tr style=\"text-align: right;\">\n",
       "      <th></th>\n",
       "      <th>movie</th>\n",
       "      <th>title</th>\n",
       "      <th>year_of_release</th>\n",
       "      <th>rating</th>\n",
       "    </tr>\n",
       "  </thead>\n",
       "  <tbody>\n",
       "    <tr>\n",
       "      <th>0</th>\n",
       "      <td>1</td>\n",
       "      <td>Dinosaur Planet</td>\n",
       "      <td>2003.0</td>\n",
       "      <td>3.749543</td>\n",
       "    </tr>\n",
       "    <tr>\n",
       "      <th>1</th>\n",
       "      <td>2</td>\n",
       "      <td>Isle of Man TT 2004 Review</td>\n",
       "      <td>2004.0</td>\n",
       "      <td>3.558621</td>\n",
       "    </tr>\n",
       "    <tr>\n",
       "      <th>2</th>\n",
       "      <td>3</td>\n",
       "      <td>Character</td>\n",
       "      <td>1997.0</td>\n",
       "      <td>3.641153</td>\n",
       "    </tr>\n",
       "    <tr>\n",
       "      <th>3</th>\n",
       "      <td>4</td>\n",
       "      <td>Paula Abdul's Get Up &amp; Dance</td>\n",
       "      <td>1994.0</td>\n",
       "      <td>2.739437</td>\n",
       "    </tr>\n",
       "    <tr>\n",
       "      <th>4</th>\n",
       "      <td>5</td>\n",
       "      <td>The Rise and Fall of ECW</td>\n",
       "      <td>2004.0</td>\n",
       "      <td>3.919298</td>\n",
       "    </tr>\n",
       "  </tbody>\n",
       "</table>\n",
       "</div>"
      ],
      "text/plain": [
       "   movie                         title  year_of_release    rating\n",
       "0      1               Dinosaur Planet           2003.0  3.749543\n",
       "1      2    Isle of Man TT 2004 Review           2004.0  3.558621\n",
       "2      3                     Character           1997.0  3.641153\n",
       "3      4  Paula Abdul's Get Up & Dance           1994.0  2.739437\n",
       "4      5      The Rise and Fall of ECW           2004.0  3.919298"
      ]
     },
     "execution_count": 16,
     "metadata": {},
     "output_type": "execute_result"
    }
   ],
   "source": [
    "nfm.head()"
   ]
  },
  {
   "cell_type": "markdown",
   "metadata": {},
   "source": [
    "## Bringing in Anime Database "
   ]
  },
  {
   "cell_type": "code",
   "execution_count": 17,
   "metadata": {
    "execution": {
     "iopub.execute_input": "2021-04-24T01:21:18.579043Z",
     "iopub.status.busy": "2021-04-24T01:21:18.578745Z",
     "iopub.status.idle": "2021-04-24T01:21:18.626306Z",
     "shell.execute_reply": "2021-04-24T01:21:18.625116Z",
     "shell.execute_reply.started": "2021-04-24T01:21:18.578988Z"
    }
   },
   "outputs": [
    {
     "name": "stdout",
     "output_type": "stream",
     "text": [
      "Tokenization took: 9.30 ms\n",
      "Type conversion took: 17.32 ms\n",
      "Parser memory cleanup took: 0.01 ms\n"
     ]
    }
   ],
   "source": [
    "anime = pd.read_csv(\"./anime.csv\", sep=',', header=0, names=['anime_id', 'name', 'genre', 'type', 'episodes', 'rating', 'members'], verbose=True, encoding='ISO-8859-1')"
   ]
  },
  {
   "cell_type": "code",
   "execution_count": 18,
   "metadata": {
    "execution": {
     "iopub.execute_input": "2021-04-24T01:21:18.628229Z",
     "iopub.status.busy": "2021-04-24T01:21:18.627983Z",
     "iopub.status.idle": "2021-04-24T01:21:18.638196Z",
     "shell.execute_reply": "2021-04-24T01:21:18.637382Z",
     "shell.execute_reply.started": "2021-04-24T01:21:18.628197Z"
    }
   },
   "outputs": [
    {
     "name": "stdout",
     "output_type": "stream",
     "text": [
      "number of NaN values in our dataset: 3\n"
     ]
    }
   ],
   "source": [
    "print('number of NaN values in our dataset:', sum(anime.isnull().any()))"
   ]
  },
  {
   "cell_type": "code",
   "execution_count": 19,
   "metadata": {
    "execution": {
     "iopub.execute_input": "2021-04-24T01:21:18.640303Z",
     "iopub.status.busy": "2021-04-24T01:21:18.639790Z",
     "iopub.status.idle": "2021-04-24T01:21:18.666998Z",
     "shell.execute_reply": "2021-04-24T01:21:18.665994Z",
     "shell.execute_reply.started": "2021-04-24T01:21:18.640263Z"
    }
   },
   "outputs": [
    {
     "name": "stdout",
     "output_type": "stream",
     "text": [
      "there are 0 duplicate ratings entries in the data.\n"
     ]
    }
   ],
   "source": [
    "dup = anime.duplicated()\n",
    "dups = sum(dup) #considering by column\n",
    "print('there are {} duplicate ratings entries in the data.'.format(dups))"
   ]
  },
  {
   "cell_type": "code",
   "execution_count": 20,
   "metadata": {
    "execution": {
     "iopub.execute_input": "2021-04-24T01:21:18.668686Z",
     "iopub.status.busy": "2021-04-24T01:21:18.668242Z",
     "iopub.status.idle": "2021-04-24T01:21:18.692639Z",
     "shell.execute_reply": "2021-04-24T01:21:18.690997Z",
     "shell.execute_reply.started": "2021-04-24T01:21:18.668656Z"
    }
   },
   "outputs": [
    {
     "name": "stdout",
     "output_type": "stream",
     "text": [
      "\n",
      "Total number of ratings: 12,294\n",
      "Total number of movie/show ids: 12,294\n",
      "total number of movies/shows: 12,292\n"
     ]
    }
   ],
   "source": [
    "print(f\"\\nTotal number of ratings: {anime.shape[0]:,.0f}\")\n",
    "print(f'Total number of movie/show ids: {len(np.unique(anime.anime_id)):,.0f}')\n",
    "print(f'total number of movies/shows: {len(np.unique(anime.name)):,.0f}')"
   ]
  },
  {
   "cell_type": "code",
   "execution_count": 21,
   "metadata": {
    "execution": {
     "iopub.execute_input": "2021-04-24T01:21:18.695214Z",
     "iopub.status.busy": "2021-04-24T01:21:18.694929Z",
     "iopub.status.idle": "2021-04-24T01:21:18.710680Z",
     "shell.execute_reply": "2021-04-24T01:21:18.710006Z",
     "shell.execute_reply.started": "2021-04-24T01:21:18.695188Z"
    }
   },
   "outputs": [],
   "source": [
    "anime = anime.drop_duplicates(subset=['name'], keep=False)"
   ]
  },
  {
   "cell_type": "code",
   "execution_count": 101,
   "metadata": {
    "execution": {
     "iopub.execute_input": "2021-04-24T15:16:03.283637Z",
     "iopub.status.busy": "2021-04-24T15:16:03.283354Z",
     "iopub.status.idle": "2021-04-24T15:16:03.715174Z",
     "shell.execute_reply": "2021-04-24T15:16:03.714362Z",
     "shell.execute_reply.started": "2021-04-24T15:16:03.283607Z"
    }
   },
   "outputs": [],
   "source": [
    "df2 = nfm.merge(anime, how='right', left_on='title', right_on='name', indicator=True, suffixes=['_nf', '_a'], validate='m:1')\n",
    "\n",
    "df2[df2._merge=='right_only'].sort_values(by='rating_a', ascending=False)[0:10]\n",
    "\n",
    "dummies=df2['genre'].str.get_dummies(sep=', ')\n",
    "\n",
    "removal = ['Dementia', 'Ecchi', 'Josei', 'Hentai', 'Seinen', 'Shoujo', 'Shoujo Ai', 'Shounen', 'Shounen Ai', 'Slice of Life', 'Yaoi', 'Yuri']\n",
    "dummies = dummies.drop(removal, axis=1)\n",
    "df2 = pd.concat([df2, dummies], axis=1)"
   ]
  },
  {
   "cell_type": "code",
   "execution_count": 102,
   "metadata": {
    "execution": {
     "iopub.execute_input": "2021-04-24T15:16:44.387357Z",
     "iopub.status.busy": "2021-04-24T15:16:44.387110Z",
     "iopub.status.idle": "2021-04-24T15:16:44.393146Z",
     "shell.execute_reply": "2021-04-24T15:16:44.392522Z",
     "shell.execute_reply.started": "2021-04-24T15:16:44.387330Z"
    }
   },
   "outputs": [],
   "source": [
    "df2._merge.value_counts()\n",
    "df2['Netflix'] = 0\n",
    "df2.loc[df2['_merge']=='both', 'Netflix'] = 1"
   ]
  },
  {
   "cell_type": "code",
   "execution_count": 106,
   "metadata": {
    "execution": {
     "iopub.execute_input": "2021-04-24T15:17:35.844436Z",
     "iopub.status.busy": "2021-04-24T15:17:35.844213Z",
     "iopub.status.idle": "2021-04-24T15:17:35.854217Z",
     "shell.execute_reply": "2021-04-24T15:17:35.853274Z",
     "shell.execute_reply.started": "2021-04-24T15:17:35.844411Z"
    }
   },
   "outputs": [
    {
     "data": {
      "text/plain": [
       "count    12071.000000\n",
       "mean         6.473737\n",
       "std          1.026757\n",
       "min          1.670000\n",
       "25%          5.880000\n",
       "50%          6.560000\n",
       "75%          7.180000\n",
       "max         10.000000\n",
       "Name: rating_a, dtype: float64"
      ]
     },
     "execution_count": 106,
     "metadata": {},
     "output_type": "execute_result"
    }
   ],
   "source": [
    "df2.rating_a.describe()"
   ]
  },
  {
   "cell_type": "code",
   "execution_count": 26,
   "metadata": {
    "execution": {
     "iopub.execute_input": "2021-04-24T01:22:52.250500Z",
     "iopub.status.busy": "2021-04-24T01:22:52.250228Z",
     "iopub.status.idle": "2021-04-24T01:22:52.255296Z",
     "shell.execute_reply": "2021-04-24T01:22:52.254585Z",
     "shell.execute_reply.started": "2021-04-24T01:22:52.250473Z"
    }
   },
   "outputs": [
    {
     "data": {
      "text/plain": [
       "(17763, 4)"
      ]
     },
     "execution_count": 26,
     "metadata": {},
     "output_type": "execute_result"
    }
   ],
   "source": [
    "nfm.shape"
   ]
  },
  {
   "cell_type": "code",
   "execution_count": 27,
   "metadata": {
    "execution": {
     "iopub.execute_input": "2021-04-24T01:22:57.588052Z",
     "iopub.status.busy": "2021-04-24T01:22:57.587781Z",
     "iopub.status.idle": "2021-04-24T01:22:57.595389Z",
     "shell.execute_reply": "2021-04-24T01:22:57.594455Z",
     "shell.execute_reply.started": "2021-04-24T01:22:57.588026Z"
    }
   },
   "outputs": [
    {
     "data": {
      "text/plain": [
       "0    12111\n",
       "1      191\n",
       "Name: Netflix, dtype: int64"
      ]
     },
     "execution_count": 27,
     "metadata": {},
     "output_type": "execute_result"
    }
   ],
   "source": [
    "df2.Netflix.value_counts()"
   ]
  },
  {
   "cell_type": "code",
   "execution_count": 28,
   "metadata": {
    "execution": {
     "iopub.execute_input": "2021-04-24T01:23:02.064993Z",
     "iopub.status.busy": "2021-04-24T01:23:02.064679Z",
     "iopub.status.idle": "2021-04-24T01:23:02.070158Z",
     "shell.execute_reply": "2021-04-24T01:23:02.069219Z",
     "shell.execute_reply.started": "2021-04-24T01:23:02.064962Z"
    }
   },
   "outputs": [
    {
     "data": {
      "text/plain": [
       "0.015770786887953102"
      ]
     },
     "execution_count": 28,
     "metadata": {},
     "output_type": "execute_result"
    }
   ],
   "source": [
    "191/12111"
   ]
  },
  {
   "cell_type": "code",
   "execution_count": 107,
   "metadata": {
    "execution": {
     "iopub.execute_input": "2021-04-24T15:17:48.207909Z",
     "iopub.status.busy": "2021-04-24T15:17:48.207375Z",
     "iopub.status.idle": "2021-04-24T15:17:48.331079Z",
     "shell.execute_reply": "2021-04-24T15:17:48.330178Z",
     "shell.execute_reply.started": "2021-04-24T15:17:48.207875Z"
    }
   },
   "outputs": [],
   "source": [
    "df2.to_csv('./df2.csv')"
   ]
  },
  {
   "cell_type": "code",
   "execution_count": 29,
   "metadata": {
    "execution": {
     "iopub.execute_input": "2021-04-24T01:23:23.331571Z",
     "iopub.status.busy": "2021-04-24T01:23:23.331292Z",
     "iopub.status.idle": "2021-04-24T01:28:02.324419Z",
     "shell.execute_reply": "2021-04-24T01:28:02.322754Z",
     "shell.execute_reply.started": "2021-04-24T01:23:23.331544Z"
    }
   },
   "outputs": [
    {
     "data": {
      "text/plain": [
       "left_only     99275640\n",
       "both           1204867\n",
       "right_only           0\n",
       "Name: _merge, dtype: int64"
      ]
     },
     "execution_count": 29,
     "metadata": {},
     "output_type": "execute_result"
    }
   ],
   "source": [
    "df4 = df.merge(anime, how='left', left_on='title', right_on='name', indicator=True, suffixes=['_nf', '_a'], validate='m:1')\n",
    "df4._merge.value_counts()"
   ]
  },
  {
   "cell_type": "code",
   "execution_count": 30,
   "metadata": {
    "execution": {
     "iopub.execute_input": "2021-04-24T01:28:07.219847Z",
     "iopub.status.busy": "2021-04-24T01:28:07.219524Z",
     "iopub.status.idle": "2021-04-24T01:28:07.225780Z",
     "shell.execute_reply": "2021-04-24T01:28:07.224743Z",
     "shell.execute_reply.started": "2021-04-24T01:28:07.219808Z"
    }
   },
   "outputs": [
    {
     "data": {
      "text/plain": [
       "0.012136582549354505"
      ]
     },
     "execution_count": 30,
     "metadata": {},
     "output_type": "execute_result"
    }
   ],
   "source": [
    "1204867/99275640"
   ]
  },
  {
   "cell_type": "code",
   "execution_count": 31,
   "metadata": {
    "execution": {
     "iopub.execute_input": "2021-04-24T01:28:15.363922Z",
     "iopub.status.busy": "2021-04-24T01:28:15.363667Z",
     "iopub.status.idle": "2021-04-24T01:28:18.719135Z",
     "shell.execute_reply": "2021-04-24T01:28:18.718417Z",
     "shell.execute_reply.started": "2021-04-24T01:28:15.363898Z"
    }
   },
   "outputs": [
    {
     "data": {
      "text/plain": [
       "_merge\n",
       "left_only     3.604122\n",
       "right_only         NaN\n",
       "both          3.618122\n",
       "Name: rating_nf, dtype: float64"
      ]
     },
     "execution_count": 31,
     "metadata": {},
     "output_type": "execute_result"
    }
   ],
   "source": [
    "df4.groupby('_merge')['rating_nf'].mean()"
   ]
  },
  {
   "cell_type": "code",
   "execution_count": 33,
   "metadata": {
    "execution": {
     "iopub.execute_input": "2021-04-24T01:30:24.948436Z",
     "iopub.status.busy": "2021-04-24T01:30:24.948186Z",
     "iopub.status.idle": "2021-04-24T01:30:35.696889Z",
     "shell.execute_reply": "2021-04-24T01:30:35.694586Z",
     "shell.execute_reply.started": "2021-04-24T01:30:24.948411Z"
    }
   },
   "outputs": [],
   "source": [
    "user_mean = df4.groupby(['user'], as_index=False)['rating_nf'].mean()"
   ]
  },
  {
   "cell_type": "code",
   "execution_count": 34,
   "metadata": {
    "execution": {
     "iopub.execute_input": "2021-04-24T01:30:38.962747Z",
     "iopub.status.busy": "2021-04-24T01:30:38.962408Z",
     "iopub.status.idle": "2021-04-24T01:35:28.978419Z",
     "shell.execute_reply": "2021-04-24T01:35:28.974605Z",
     "shell.execute_reply.started": "2021-04-24T01:30:38.962708Z"
    }
   },
   "outputs": [],
   "source": [
    "user_mean.rename({'rating_nf':'user_mean'}, axis=1, inplace=True)\n",
    "df4 = df4.merge(user_mean, on='user', validate='m:1')"
   ]
  },
  {
   "cell_type": "code",
   "execution_count": 35,
   "metadata": {
    "execution": {
     "iopub.execute_input": "2021-04-24T01:35:33.997985Z",
     "iopub.status.busy": "2021-04-24T01:35:33.997635Z",
     "iopub.status.idle": "2021-04-24T01:35:37.681881Z",
     "shell.execute_reply": "2021-04-24T01:35:37.681189Z",
     "shell.execute_reply.started": "2021-04-24T01:35:33.997942Z"
    }
   },
   "outputs": [
    {
     "data": {
      "text/plain": [
       "_merge\n",
       "left_only     0.000207\n",
       "right_only         NaN\n",
       "both         -0.017046\n",
       "Name: std_rating, dtype: float64"
      ]
     },
     "execution_count": 35,
     "metadata": {},
     "output_type": "execute_result"
    }
   ],
   "source": [
    "df4['std_rating'] = df4['rating_nf'] - df4['user_mean']\n",
    "df4.groupby('_merge')['std_rating'].mean()"
   ]
  },
  {
   "cell_type": "code",
   "execution_count": 36,
   "metadata": {
    "execution": {
     "iopub.execute_input": "2021-04-24T01:36:26.069652Z",
     "iopub.status.busy": "2021-04-24T01:36:26.069365Z",
     "iopub.status.idle": "2021-04-24T01:36:26.076901Z",
     "shell.execute_reply": "2021-04-24T01:36:26.075914Z",
     "shell.execute_reply.started": "2021-04-24T01:36:26.069616Z"
    }
   },
   "outputs": [
    {
     "data": {
      "text/plain": [
       "(100480507, 16)"
      ]
     },
     "execution_count": 36,
     "metadata": {},
     "output_type": "execute_result"
    }
   ],
   "source": [
    "df4.shape"
   ]
  },
  {
   "cell_type": "code",
   "execution_count": 37,
   "metadata": {
    "execution": {
     "iopub.execute_input": "2021-04-24T01:36:30.531792Z",
     "iopub.status.busy": "2021-04-24T01:36:30.531532Z",
     "iopub.status.idle": "2021-04-24T01:36:33.062921Z",
     "shell.execute_reply": "2021-04-24T01:36:33.062007Z",
     "shell.execute_reply.started": "2021-04-24T01:36:30.531765Z"
    }
   },
   "outputs": [],
   "source": [
    "df4['anime'] = 0\n",
    "df4.loc[df4['_merge']=='both', 'anime'] = 1"
   ]
  },
  {
   "cell_type": "code",
   "execution_count": 38,
   "metadata": {
    "execution": {
     "iopub.execute_input": "2021-04-24T01:39:47.104208Z",
     "iopub.status.busy": "2021-04-24T01:39:47.103938Z",
     "iopub.status.idle": "2021-04-24T01:40:49.475859Z",
     "shell.execute_reply": "2021-04-24T01:40:49.474548Z",
     "shell.execute_reply.started": "2021-04-24T01:39:47.104180Z"
    }
   },
   "outputs": [
    {
     "data": {
      "text/html": [
       "<div>\n",
       "<style scoped>\n",
       "    .dataframe tbody tr th:only-of-type {\n",
       "        vertical-align: middle;\n",
       "    }\n",
       "\n",
       "    .dataframe tbody tr th {\n",
       "        vertical-align: top;\n",
       "    }\n",
       "\n",
       "    .dataframe thead th {\n",
       "        text-align: right;\n",
       "    }\n",
       "</style>\n",
       "<table border=\"1\" class=\"dataframe\">\n",
       "  <thead>\n",
       "    <tr style=\"text-align: right;\">\n",
       "      <th></th>\n",
       "      <th>user</th>\n",
       "      <th>anime</th>\n",
       "    </tr>\n",
       "  </thead>\n",
       "  <tbody>\n",
       "    <tr>\n",
       "      <th>count</th>\n",
       "      <td>4.801890e+05</td>\n",
       "      <td>480189.000000</td>\n",
       "    </tr>\n",
       "    <tr>\n",
       "      <th>mean</th>\n",
       "      <td>1.323439e+06</td>\n",
       "      <td>2.509152</td>\n",
       "    </tr>\n",
       "    <tr>\n",
       "      <th>std</th>\n",
       "      <td>7.652116e+05</td>\n",
       "      <td>3.784915</td>\n",
       "    </tr>\n",
       "    <tr>\n",
       "      <th>min</th>\n",
       "      <td>6.000000e+00</td>\n",
       "      <td>0.000000</td>\n",
       "    </tr>\n",
       "    <tr>\n",
       "      <th>25%</th>\n",
       "      <td>6.591220e+05</td>\n",
       "      <td>0.000000</td>\n",
       "    </tr>\n",
       "    <tr>\n",
       "      <th>50%</th>\n",
       "      <td>1.322528e+06</td>\n",
       "      <td>1.000000</td>\n",
       "    </tr>\n",
       "    <tr>\n",
       "      <th>75%</th>\n",
       "      <td>1.986118e+06</td>\n",
       "      <td>3.000000</td>\n",
       "    </tr>\n",
       "    <tr>\n",
       "      <th>max</th>\n",
       "      <td>2.649429e+06</td>\n",
       "      <td>188.000000</td>\n",
       "    </tr>\n",
       "  </tbody>\n",
       "</table>\n",
       "</div>"
      ],
      "text/plain": [
       "               user          anime\n",
       "count  4.801890e+05  480189.000000\n",
       "mean   1.323439e+06       2.509152\n",
       "std    7.652116e+05       3.784915\n",
       "min    6.000000e+00       0.000000\n",
       "25%    6.591220e+05       0.000000\n",
       "50%    1.322528e+06       1.000000\n",
       "75%    1.986118e+06       3.000000\n",
       "max    2.649429e+06     188.000000"
      ]
     },
     "execution_count": 38,
     "metadata": {},
     "output_type": "execute_result"
    }
   ],
   "source": [
    "user_views = df4.groupby(['user'], as_index=False)['anime'].sum()\n",
    "user_views.describe()"
   ]
  },
  {
   "cell_type": "code",
   "execution_count": 40,
   "metadata": {
    "execution": {
     "iopub.execute_input": "2021-04-24T01:46:39.291460Z",
     "iopub.status.busy": "2021-04-24T01:46:39.291123Z",
     "iopub.status.idle": "2021-04-24T01:50:13.086359Z",
     "shell.execute_reply": "2021-04-24T01:50:13.083942Z",
     "shell.execute_reply.started": "2021-04-24T01:46:39.291418Z"
    }
   },
   "outputs": [],
   "source": [
    "df_date1 = df4.groupby(pd.Grouper(key=\"date\", freq=\"M\"))['anime'].sum()"
   ]
  },
  {
   "cell_type": "code",
   "execution_count": 41,
   "metadata": {
    "execution": {
     "iopub.execute_input": "2021-04-24T01:50:13.098937Z",
     "iopub.status.busy": "2021-04-24T01:50:13.098644Z",
     "iopub.status.idle": "2021-04-24T01:53:55.592780Z",
     "shell.execute_reply": "2021-04-24T01:53:55.585575Z",
     "shell.execute_reply.started": "2021-04-24T01:50:13.098895Z"
    }
   },
   "outputs": [],
   "source": [
    "df_date2 = df4.groupby(pd.Grouper(key=\"date\", freq=\"M\"))['anime'].count()"
   ]
  },
  {
   "cell_type": "code",
   "execution_count": 52,
   "metadata": {
    "execution": {
     "iopub.execute_input": "2021-04-24T14:05:33.283199Z",
     "iopub.status.busy": "2021-04-24T14:05:33.282959Z",
     "iopub.status.idle": "2021-04-24T14:05:33.290843Z",
     "shell.execute_reply": "2021-04-24T14:05:33.289929Z",
     "shell.execute_reply.started": "2021-04-24T14:05:33.283174Z"
    }
   },
   "outputs": [],
   "source": [
    "df_date = pd.concat([df_date1, df_date2], axis=1)"
   ]
  },
  {
   "cell_type": "code",
   "execution_count": 59,
   "metadata": {
    "execution": {
     "iopub.execute_input": "2021-04-24T14:12:25.634452Z",
     "iopub.status.busy": "2021-04-24T14:12:25.634217Z",
     "iopub.status.idle": "2021-04-24T14:12:25.652884Z",
     "shell.execute_reply": "2021-04-24T14:12:25.651496Z",
     "shell.execute_reply.started": "2021-04-24T14:12:25.634429Z"
    }
   },
   "outputs": [],
   "source": [
    "df_date.columns = ['anime_sum', 'monthly_sum']\n",
    "df_date['anime_scaled'] = df_date.anime_sum / df_date.monthly_sum"
   ]
  },
  {
   "cell_type": "code",
   "execution_count": 92,
   "metadata": {
    "execution": {
     "iopub.execute_input": "2021-04-24T14:46:08.568307Z",
     "iopub.status.busy": "2021-04-24T14:46:08.568087Z",
     "iopub.status.idle": "2021-04-24T14:46:08.574244Z",
     "shell.execute_reply": "2021-04-24T14:46:08.573565Z",
     "shell.execute_reply.started": "2021-04-24T14:46:08.568284Z"
    }
   },
   "outputs": [],
   "source": [
    "df_date = df_date.reset_index()\n",
    "df_date.to_csv('./df_date.csv')"
   ]
  },
  {
   "cell_type": "code",
   "execution_count": 78,
   "metadata": {
    "execution": {
     "iopub.execute_input": "2021-04-24T14:25:55.426211Z",
     "iopub.status.busy": "2021-04-24T14:25:55.425977Z",
     "iopub.status.idle": "2021-04-24T14:25:55.629821Z",
     "shell.execute_reply": "2021-04-24T14:25:55.628937Z",
     "shell.execute_reply.started": "2021-04-24T14:25:55.426186Z"
    }
   },
   "outputs": [
    {
     "data": {
      "image/png": "[encoded data removed]",
      "text/plain": [
       "<Figure size 1296x720 with 1 Axes>"
      ]
     },
     "metadata": {},
     "output_type": "display_data"
    }
   ],
   "source": [
    "plt.figure(figsize=[18,10])\n",
    "sns.regplot(data = df_date, x = 'date', y = 'anime_scaled', fit_reg = False,\n",
    "             scatter_kws = {'alpha' : 2/3, 'edgecolor':'black',}, color='red');"
   ]
  },
  {
   "cell_type": "code",
   "execution_count": 100,
   "metadata": {
    "execution": {
     "iopub.execute_input": "2021-04-24T15:15:31.734326Z",
     "iopub.status.busy": "2021-04-24T15:15:31.734078Z",
     "iopub.status.idle": "2021-04-24T15:15:31.739926Z",
     "shell.execute_reply": "2021-04-24T15:15:31.738737Z",
     "shell.execute_reply.started": "2021-04-24T15:15:31.734301Z"
    }
   },
   "outputs": [
    {
     "data": {
      "text/plain": [
       "Index(['movie', 'title', 'year_of_release', 'rating_nf', 'anime_id', 'name',\n",
       "       'genre', 'type', 'episodes', 'rating_a', 'members', '_merge', 'Action',\n",
       "       'Adventure', 'Cars', 'Comedy', 'Dementia', 'Demons', 'Drama', 'Ecchi',\n",
       "       'Fantasy', 'Game', 'Harem', 'Hentai', 'Historical', 'Horror', 'Josei',\n",
       "       'Kids', 'Magic', 'Martial Arts', 'Mecha', 'Military', 'Music',\n",
       "       'Mystery', 'Parody', 'Police', 'Psychological', 'Romance', 'Samurai',\n",
       "       'School', 'Sci-Fi', 'Seinen', 'Shoujo', 'Shoujo Ai', 'Shounen',\n",
       "       'Shounen Ai', 'Slice of Life', 'Space', 'Sports', 'Super Power',\n",
       "       'Supernatural', 'Thriller', 'Vampire', 'Yaoi', 'Yuri', 'Netflix'],\n",
       "      dtype='object')"
      ]
     },
     "execution_count": 100,
     "metadata": {},
     "output_type": "execute_result"
    }
   ],
   "source": [
    "df2.columns"
   ]
  },
  {
   "cell_type": "markdown",
   "metadata": {},
   "source": [
    "Let's look at person-level ratings and how they align with the Anime database"
   ]
  },
  {
   "cell_type": "code",
   "execution_count": 114,
   "metadata": {
    "execution": {
     "iopub.execute_input": "2021-04-26T14:51:17.986152Z",
     "iopub.status.busy": "2021-04-26T14:51:17.985910Z",
     "iopub.status.idle": "2021-04-26T14:51:49.208035Z",
     "shell.execute_reply": "2021-04-26T14:51:49.206629Z",
     "shell.execute_reply.started": "2021-04-26T14:51:17.986126Z"
    }
   },
   "outputs": [
    {
     "name": "stdout",
     "output_type": "stream",
     "text": [
      "(100480507, 17)\n",
      "(1204867, 17)\n"
     ]
    }
   ],
   "source": [
    "# Dropping all non-anime movies\n",
    "print(df4.shape)\n",
    "df4.dropna(subset=['anime_id'], inplace=True)\n",
    "print(df4.shape)"
   ]
  },
  {
   "cell_type": "code",
   "execution_count": 115,
   "metadata": {
    "execution": {
     "iopub.execute_input": "2021-04-26T14:53:14.383942Z",
     "iopub.status.busy": "2021-04-26T14:53:14.382944Z",
     "iopub.status.idle": "2021-04-26T14:53:14.435255Z",
     "shell.execute_reply": "2021-04-26T14:53:14.434558Z",
     "shell.execute_reply.started": "2021-04-26T14:53:14.383889Z"
    }
   },
   "outputs": [
    {
     "data": {
      "text/plain": [
       "6.064281654861141"
      ]
     },
     "execution_count": 115,
     "metadata": {},
     "output_type": "execute_result"
    }
   ],
   "source": [
    "df4.rating_a.mean()"
   ]
  },
  {
   "cell_type": "code",
   "execution_count": 116,
   "metadata": {
    "execution": {
     "iopub.execute_input": "2021-04-26T14:53:27.269172Z",
     "iopub.status.busy": "2021-04-26T14:53:27.268929Z",
     "iopub.status.idle": "2021-04-26T14:53:27.301567Z",
     "shell.execute_reply": "2021-04-26T14:53:27.300559Z",
     "shell.execute_reply.started": "2021-04-26T14:53:27.269146Z"
    }
   },
   "outputs": [
    {
     "data": {
      "text/plain": [
       "3.6181221661809975"
      ]
     },
     "execution_count": 116,
     "metadata": {},
     "output_type": "execute_result"
    }
   ],
   "source": [
    "df4.rating_nf.mean()"
   ]
  },
  {
   "cell_type": "code",
   "execution_count": 117,
   "metadata": {
    "execution": {
     "iopub.execute_input": "2021-04-26T14:55:40.073363Z",
     "iopub.status.busy": "2021-04-26T14:55:40.073071Z",
     "iopub.status.idle": "2021-04-26T15:07:39.189502Z",
     "shell.execute_reply": "2021-04-26T15:07:39.188639Z",
     "shell.execute_reply.started": "2021-04-26T14:55:40.073332Z"
    }
   },
   "outputs": [
    {
     "data": {
      "text/plain": [
       "<matplotlib.lines.Line2D at 0x7fc3dd990e80>"
      ]
     },
     "execution_count": 117,
     "metadata": {},
     "output_type": "execute_result"
    },
    {
     "data": {
      "image/png": "[encoded data removed]",
      "text/plain": [
       "<Figure size 432x432 with 3 Axes>"
      ]
     },
     "metadata": {},
     "output_type": "display_data"
    }
   ],
   "source": [
    "sns.set(color_codes=True)\n",
    "plot = sns.jointplot(data=df4, x='rating_a', y='rating_nf', kind='kde')\n",
    "plot.ax_joint.axhline(y=3.62)\n",
    "plot.ax_joint.axvline(x=6.06)\n",
    "plot.set_axis_labels(y='Netflix Rating', x='Anime Site Rating')"
   ]
  },
  {
   "cell_type": "code",
   "execution_count": 118,
   "metadata": {
    "execution": {
     "iopub.execute_input": "2021-04-26T16:12:30.039517Z",
     "iopub.status.busy": "2021-04-26T16:12:30.039220Z",
     "iopub.status.idle": "2021-04-26T16:12:30.078155Z",
     "shell.execute_reply": "2021-04-26T16:12:30.077348Z",
     "shell.execute_reply.started": "2021-04-26T16:12:30.039493Z"
    }
   },
   "outputs": [
    {
     "data": {
      "text/plain": [
       "4    419803\n",
       "3    340021\n",
       "5    274521\n",
       "2    116954\n",
       "1     53568\n",
       "Name: rating_nf, dtype: int64"
      ]
     },
     "execution_count": 118,
     "metadata": {},
     "output_type": "execute_result"
    }
   ],
   "source": [
    "df4.rating_nf.value_counts()"
   ]
  },
  {
   "cell_type": "code",
   "execution_count": 281,
   "metadata": {
    "execution": {
     "iopub.execute_input": "2021-04-27T18:12:26.381972Z",
     "iopub.status.busy": "2021-04-27T18:12:26.381647Z",
     "iopub.status.idle": "2021-04-27T18:12:26.993282Z",
     "shell.execute_reply": "2021-04-27T18:12:26.991551Z",
     "shell.execute_reply.started": "2021-04-27T18:12:26.381943Z"
    }
   },
   "outputs": [
    {
     "data": {
      "image/png": "[encoded data removed]",
      "text/plain": [
       "<Figure size 1296x720 with 1 Axes>"
      ]
     },
     "metadata": {},
     "output_type": "display_data"
    }
   ],
   "source": [
    "sns.set_style(style='white')\n",
    "plt.figure(figsize=[18,10])\n",
    "plot = sns.boxplot(x=\"rating_nf\", y=\"rating_a\", data=df4, palette=\"Reds\")\n",
    "plot.set_xlabel(\"Netflix Rating\",fontsize=30)\n",
    "plot.set_ylabel(\"Anime-site Rating\",fontsize=30)\n",
    "plt.savefig('boxplot.png');"
   ]
  },
  {
   "cell_type": "code",
   "execution_count": 137,
   "metadata": {
    "execution": {
     "iopub.execute_input": "2021-04-26T16:50:54.876449Z",
     "iopub.status.busy": "2021-04-26T16:50:54.876212Z",
     "iopub.status.idle": "2021-04-26T16:50:55.107159Z",
     "shell.execute_reply": "2021-04-26T16:50:55.106480Z",
     "shell.execute_reply.started": "2021-04-26T16:50:54.876425Z"
    }
   },
   "outputs": [
    {
     "name": "stdout",
     "output_type": "stream",
     "text": [
      "Netflix rating 1: Mean Anime rating: 6.05\n",
      "Netflix rating 2: Mean Anime rating: 5.99\n",
      "Netflix rating 3: Mean Anime rating: 6.00\n",
      "Netflix rating 4: Mean Anime rating: 6.09\n",
      "Netflix rating 5: Mean Anime rating: 6.14\n"
     ]
    }
   ],
   "source": [
    "print(f'Netflix rating 1: Mean Anime rating: {df4[df4.rating_nf==1].rating_a.mean():.2f}')\n",
    "print(f'Netflix rating 2: Mean Anime rating: {df4[df4.rating_nf==2].rating_a.mean():.2f}')\n",
    "print(f'Netflix rating 3: Mean Anime rating: {df4[df4.rating_nf==3].rating_a.mean():.2f}')\n",
    "print(f'Netflix rating 4: Mean Anime rating: {df4[df4.rating_nf==4].rating_a.mean():.2f}')\n",
    "print(f'Netflix rating 5: Mean Anime rating: {df4[df4.rating_nf==5].rating_a.mean():.2f}')"
   ]
  },
  {
   "cell_type": "code",
   "execution_count": 138,
   "metadata": {
    "execution": {
     "iopub.execute_input": "2021-04-26T16:53:05.627923Z",
     "iopub.status.busy": "2021-04-26T16:53:05.627682Z",
     "iopub.status.idle": "2021-04-26T16:53:05.670556Z",
     "shell.execute_reply": "2021-04-26T16:53:05.663365Z",
     "shell.execute_reply.started": "2021-04-26T16:53:05.627896Z"
    }
   },
   "outputs": [
    {
     "data": {
      "text/html": [
       "<div>\n",
       "<style scoped>\n",
       "    .dataframe tbody tr th:only-of-type {\n",
       "        vertical-align: middle;\n",
       "    }\n",
       "\n",
       "    .dataframe tbody tr th {\n",
       "        vertical-align: top;\n",
       "    }\n",
       "\n",
       "    .dataframe thead th {\n",
       "        text-align: right;\n",
       "    }\n",
       "</style>\n",
       "<table border=\"1\" class=\"dataframe\">\n",
       "  <thead>\n",
       "    <tr style=\"text-align: right;\">\n",
       "      <th></th>\n",
       "      <th>movie</th>\n",
       "      <th>user</th>\n",
       "      <th>rating_nf</th>\n",
       "      <th>date</th>\n",
       "      <th>year_of_release</th>\n",
       "      <th>title</th>\n",
       "      <th>anime_id</th>\n",
       "      <th>name</th>\n",
       "      <th>genre</th>\n",
       "      <th>type</th>\n",
       "      <th>episodes</th>\n",
       "      <th>rating_a</th>\n",
       "      <th>members</th>\n",
       "      <th>_merge</th>\n",
       "      <th>user_mean</th>\n",
       "      <th>std_rating</th>\n",
       "      <th>anime</th>\n",
       "    </tr>\n",
       "  </thead>\n",
       "  <tbody>\n",
       "    <tr>\n",
       "      <th>44</th>\n",
       "      <td>6408</td>\n",
       "      <td>510180</td>\n",
       "      <td>4</td>\n",
       "      <td>2003-06-26</td>\n",
       "      <td>1987.0</td>\n",
       "      <td>Good Morning</td>\n",
       "      <td>8626.0</td>\n",
       "      <td>Good Morning</td>\n",
       "      <td>Music, Slice of Life</td>\n",
       "      <td>Music</td>\n",
       "      <td>1</td>\n",
       "      <td>5.68</td>\n",
       "      <td>1381.0</td>\n",
       "      <td>both</td>\n",
       "      <td>3.351153</td>\n",
       "      <td>0.648847</td>\n",
       "      <td>1</td>\n",
       "    </tr>\n",
       "    <tr>\n",
       "      <th>55</th>\n",
       "      <td>607</td>\n",
       "      <td>510180</td>\n",
       "      <td>4</td>\n",
       "      <td>1999-12-11</td>\n",
       "      <td>1994.0</td>\n",
       "      <td>Speed</td>\n",
       "      <td>3799.0</td>\n",
       "      <td>Speed</td>\n",
       "      <td>Comedy</td>\n",
       "      <td>Movie</td>\n",
       "      <td>1</td>\n",
       "      <td>5.28</td>\n",
       "      <td>525.0</td>\n",
       "      <td>both</td>\n",
       "      <td>3.351153</td>\n",
       "      <td>0.648847</td>\n",
       "      <td>1</td>\n",
       "    </tr>\n",
       "    <tr>\n",
       "      <th>113</th>\n",
       "      <td>15466</td>\n",
       "      <td>510180</td>\n",
       "      <td>2</td>\n",
       "      <td>1999-12-11</td>\n",
       "      <td>1998.0</td>\n",
       "      <td>Firestorm</td>\n",
       "      <td>2382.0</td>\n",
       "      <td>Firestorm</td>\n",
       "      <td>Action, Mecha, Military, Sci-Fi</td>\n",
       "      <td>TV</td>\n",
       "      <td>26</td>\n",
       "      <td>6.02</td>\n",
       "      <td>615.0</td>\n",
       "      <td>both</td>\n",
       "      <td>3.351153</td>\n",
       "      <td>-1.351153</td>\n",
       "      <td>1</td>\n",
       "    </tr>\n",
       "    <tr>\n",
       "      <th>204</th>\n",
       "      <td>7895</td>\n",
       "      <td>510180</td>\n",
       "      <td>2</td>\n",
       "      <td>2003-07-14</td>\n",
       "      <td>1992.0</td>\n",
       "      <td>Singles</td>\n",
       "      <td>2101.0</td>\n",
       "      <td>Singles</td>\n",
       "      <td>Romance, Shoujo</td>\n",
       "      <td>OVA</td>\n",
       "      <td>1</td>\n",
       "      <td>5.32</td>\n",
       "      <td>161.0</td>\n",
       "      <td>both</td>\n",
       "      <td>3.351153</td>\n",
       "      <td>-1.351153</td>\n",
       "      <td>1</td>\n",
       "    </tr>\n",
       "    <tr>\n",
       "      <th>209</th>\n",
       "      <td>11701</td>\n",
       "      <td>510180</td>\n",
       "      <td>4</td>\n",
       "      <td>2000-11-05</td>\n",
       "      <td>1997.0</td>\n",
       "      <td>Contact</td>\n",
       "      <td>25985.0</td>\n",
       "      <td>Contact</td>\n",
       "      <td>Comedy, Kids, Sci-Fi</td>\n",
       "      <td>Special</td>\n",
       "      <td>1</td>\n",
       "      <td>5.00</td>\n",
       "      <td>102.0</td>\n",
       "      <td>both</td>\n",
       "      <td>3.351153</td>\n",
       "      <td>0.648847</td>\n",
       "      <td>1</td>\n",
       "    </tr>\n",
       "  </tbody>\n",
       "</table>\n",
       "</div>"
      ],
      "text/plain": [
       "     movie    user  rating_nf       date  year_of_release         title  \\\n",
       "44    6408  510180          4 2003-06-26           1987.0  Good Morning   \n",
       "55     607  510180          4 1999-12-11           1994.0         Speed   \n",
       "113  15466  510180          2 1999-12-11           1998.0     Firestorm   \n",
       "204   7895  510180          2 2003-07-14           1992.0       Singles   \n",
       "209  11701  510180          4 2000-11-05           1997.0       Contact   \n",
       "\n",
       "     anime_id          name                            genre     type  \\\n",
       "44     8626.0  Good Morning             Music, Slice of Life    Music   \n",
       "55     3799.0         Speed                           Comedy    Movie   \n",
       "113    2382.0     Firestorm  Action, Mecha, Military, Sci-Fi       TV   \n",
       "204    2101.0       Singles                  Romance, Shoujo      OVA   \n",
       "209   25985.0       Contact             Comedy, Kids, Sci-Fi  Special   \n",
       "\n",
       "    episodes  rating_a  members _merge  user_mean  std_rating  anime  \n",
       "44         1      5.68   1381.0   both   3.351153    0.648847      1  \n",
       "55         1      5.28    525.0   both   3.351153    0.648847      1  \n",
       "113       26      6.02    615.0   both   3.351153   -1.351153      1  \n",
       "204        1      5.32    161.0   both   3.351153   -1.351153      1  \n",
       "209        1      5.00    102.0   both   3.351153    0.648847      1  "
      ]
     },
     "execution_count": 138,
     "metadata": {},
     "output_type": "execute_result"
    }
   ],
   "source": [
    "df4.head()"
   ]
  },
  {
   "cell_type": "code",
   "execution_count": 154,
   "metadata": {
    "execution": {
     "iopub.execute_input": "2021-04-26T17:09:11.854754Z",
     "iopub.status.busy": "2021-04-26T17:09:11.854537Z",
     "iopub.status.idle": "2021-04-26T17:09:11.954035Z",
     "shell.execute_reply": "2021-04-26T17:09:11.953288Z",
     "shell.execute_reply.started": "2021-04-26T17:09:11.854731Z"
    }
   },
   "outputs": [],
   "source": [
    "# Which movies have the most agreement? \n",
    "m_var = df4.groupby(['title'])['rating_nf'].agg(mov_sd='std').reset_index()\n",
    "m_var.sort_values(by='mov_sd', inplace=True)"
   ]
  },
  {
   "cell_type": "code",
   "execution_count": 159,
   "metadata": {
    "execution": {
     "iopub.execute_input": "2021-04-26T17:12:59.133830Z",
     "iopub.status.busy": "2021-04-26T17:12:59.133586Z",
     "iopub.status.idle": "2021-04-26T17:12:59.148494Z",
     "shell.execute_reply": "2021-04-26T17:12:59.147756Z",
     "shell.execute_reply.started": "2021-04-26T17:12:59.133806Z"
    }
   },
   "outputs": [],
   "source": [
    "df2 = df2.merge(m_var, how='left', on='title')"
   ]
  },
  {
   "cell_type": "code",
   "execution_count": 160,
   "metadata": {
    "execution": {
     "iopub.execute_input": "2021-04-26T17:13:43.633110Z",
     "iopub.status.busy": "2021-04-26T17:13:43.632831Z",
     "iopub.status.idle": "2021-04-26T17:13:43.641298Z",
     "shell.execute_reply": "2021-04-26T17:13:43.640229Z",
     "shell.execute_reply.started": "2021-04-26T17:13:43.633080Z"
    }
   },
   "outputs": [
    {
     "data": {
      "text/plain": [
       "0    12111\n",
       "1      191\n",
       "Name: Netflix, dtype: int64"
      ]
     },
     "execution_count": 160,
     "metadata": {},
     "output_type": "execute_result"
    }
   ],
   "source": [
    "df2.Netflix.value_counts()"
   ]
  },
  {
   "cell_type": "code",
   "execution_count": 161,
   "metadata": {
    "execution": {
     "iopub.execute_input": "2021-04-26T17:14:56.232517Z",
     "iopub.status.busy": "2021-04-26T17:14:56.232226Z",
     "iopub.status.idle": "2021-04-26T17:14:56.265708Z",
     "shell.execute_reply": "2021-04-26T17:14:56.264887Z",
     "shell.execute_reply.started": "2021-04-26T17:14:56.232474Z"
    }
   },
   "outputs": [
    {
     "data": {
      "text/html": [
       "<div>\n",
       "<style scoped>\n",
       "    .dataframe tbody tr th:only-of-type {\n",
       "        vertical-align: middle;\n",
       "    }\n",
       "\n",
       "    .dataframe tbody tr th {\n",
       "        vertical-align: top;\n",
       "    }\n",
       "\n",
       "    .dataframe thead th {\n",
       "        text-align: right;\n",
       "    }\n",
       "</style>\n",
       "<table border=\"1\" class=\"dataframe\">\n",
       "  <thead>\n",
       "    <tr style=\"text-align: right;\">\n",
       "      <th></th>\n",
       "      <th>movie</th>\n",
       "      <th>title</th>\n",
       "      <th>year_of_release</th>\n",
       "      <th>rating_nf</th>\n",
       "      <th>anime_id</th>\n",
       "      <th>name</th>\n",
       "      <th>genre</th>\n",
       "      <th>type</th>\n",
       "      <th>episodes</th>\n",
       "      <th>rating_a</th>\n",
       "      <th>...</th>\n",
       "      <th>School</th>\n",
       "      <th>Sci-Fi</th>\n",
       "      <th>Space</th>\n",
       "      <th>Sports</th>\n",
       "      <th>Super Power</th>\n",
       "      <th>Supernatural</th>\n",
       "      <th>Thriller</th>\n",
       "      <th>Vampire</th>\n",
       "      <th>Netflix</th>\n",
       "      <th>mov_sd</th>\n",
       "    </tr>\n",
       "  </thead>\n",
       "  <tbody>\n",
       "    <tr>\n",
       "      <th>200</th>\n",
       "      <td>15538.0</td>\n",
       "      <td>Fullmetal Alchemist</td>\n",
       "      <td>2004.0</td>\n",
       "      <td>4.605021</td>\n",
       "      <td>121</td>\n",
       "      <td>Fullmetal Alchemist</td>\n",
       "      <td>Action, Adventure, Comedy, Drama, Fantasy, Mag...</td>\n",
       "      <td>TV</td>\n",
       "      <td>51</td>\n",
       "      <td>8.33</td>\n",
       "      <td>...</td>\n",
       "      <td>0</td>\n",
       "      <td>0</td>\n",
       "      <td>0</td>\n",
       "      <td>0</td>\n",
       "      <td>0</td>\n",
       "      <td>0</td>\n",
       "      <td>0</td>\n",
       "      <td>0</td>\n",
       "      <td>1</td>\n",
       "      <td>0.765461</td>\n",
       "    </tr>\n",
       "    <tr>\n",
       "      <th>11857</th>\n",
       "      <td>14775.0</td>\n",
       "      <td>Vicious</td>\n",
       "      <td>2003.0</td>\n",
       "      <td>1.659574</td>\n",
       "      <td>4541</td>\n",
       "      <td>Vicious</td>\n",
       "      <td>Hentai</td>\n",
       "      <td>OVA</td>\n",
       "      <td>2</td>\n",
       "      <td>6.00</td>\n",
       "      <td>...</td>\n",
       "      <td>0</td>\n",
       "      <td>0</td>\n",
       "      <td>0</td>\n",
       "      <td>0</td>\n",
       "      <td>0</td>\n",
       "      <td>0</td>\n",
       "      <td>0</td>\n",
       "      <td>0</td>\n",
       "      <td>1</td>\n",
       "      <td>0.864212</td>\n",
       "    </tr>\n",
       "    <tr>\n",
       "      <th>104</th>\n",
       "      <td>2019.0</td>\n",
       "      <td>Samurai Champloo</td>\n",
       "      <td>2004.0</td>\n",
       "      <td>4.467500</td>\n",
       "      <td>205</td>\n",
       "      <td>Samurai Champloo</td>\n",
       "      <td>Action, Adventure, Comedy, Historical, Samurai...</td>\n",
       "      <td>TV</td>\n",
       "      <td>26</td>\n",
       "      <td>8.50</td>\n",
       "      <td>...</td>\n",
       "      <td>0</td>\n",
       "      <td>0</td>\n",
       "      <td>0</td>\n",
       "      <td>0</td>\n",
       "      <td>0</td>\n",
       "      <td>0</td>\n",
       "      <td>0</td>\n",
       "      <td>0</td>\n",
       "      <td>1</td>\n",
       "      <td>0.886192</td>\n",
       "    </tr>\n",
       "    <tr>\n",
       "      <th>11799</th>\n",
       "      <td>13853.0</td>\n",
       "      <td>Dark Blue</td>\n",
       "      <td>2003.0</td>\n",
       "      <td>3.004885</td>\n",
       "      <td>12995</td>\n",
       "      <td>Dark Blue</td>\n",
       "      <td>Hentai</td>\n",
       "      <td>OVA</td>\n",
       "      <td>2</td>\n",
       "      <td>6.08</td>\n",
       "      <td>...</td>\n",
       "      <td>0</td>\n",
       "      <td>0</td>\n",
       "      <td>0</td>\n",
       "      <td>0</td>\n",
       "      <td>0</td>\n",
       "      <td>0</td>\n",
       "      <td>0</td>\n",
       "      <td>0</td>\n",
       "      <td>1</td>\n",
       "      <td>0.893404</td>\n",
       "    </tr>\n",
       "    <tr>\n",
       "      <th>7158</th>\n",
       "      <td>6408.0</td>\n",
       "      <td>Good Morning</td>\n",
       "      <td>1987.0</td>\n",
       "      <td>3.851776</td>\n",
       "      <td>8626</td>\n",
       "      <td>Good Morning</td>\n",
       "      <td>Music, Slice of Life</td>\n",
       "      <td>Music</td>\n",
       "      <td>1</td>\n",
       "      <td>5.68</td>\n",
       "      <td>...</td>\n",
       "      <td>0</td>\n",
       "      <td>0</td>\n",
       "      <td>0</td>\n",
       "      <td>0</td>\n",
       "      <td>0</td>\n",
       "      <td>0</td>\n",
       "      <td>0</td>\n",
       "      <td>0</td>\n",
       "      <td>1</td>\n",
       "      <td>0.894887</td>\n",
       "    </tr>\n",
       "  </tbody>\n",
       "</table>\n",
       "<p>5 rows × 45 columns</p>\n",
       "</div>"
      ],
      "text/plain": [
       "         movie                title  year_of_release  rating_nf  anime_id  \\\n",
       "200    15538.0  Fullmetal Alchemist           2004.0   4.605021       121   \n",
       "11857  14775.0              Vicious           2003.0   1.659574      4541   \n",
       "104     2019.0     Samurai Champloo           2004.0   4.467500       205   \n",
       "11799  13853.0            Dark Blue           2003.0   3.004885     12995   \n",
       "7158    6408.0         Good Morning           1987.0   3.851776      8626   \n",
       "\n",
       "                      name                                              genre  \\\n",
       "200    Fullmetal Alchemist  Action, Adventure, Comedy, Drama, Fantasy, Mag...   \n",
       "11857              Vicious                                             Hentai   \n",
       "104       Samurai Champloo  Action, Adventure, Comedy, Historical, Samurai...   \n",
       "11799            Dark Blue                                             Hentai   \n",
       "7158          Good Morning                               Music, Slice of Life   \n",
       "\n",
       "        type episodes  rating_a  ...  School Sci-Fi  Space  Sports  \\\n",
       "200       TV       51      8.33  ...       0      0      0       0   \n",
       "11857    OVA        2      6.00  ...       0      0      0       0   \n",
       "104       TV       26      8.50  ...       0      0      0       0   \n",
       "11799    OVA        2      6.08  ...       0      0      0       0   \n",
       "7158   Music        1      5.68  ...       0      0      0       0   \n",
       "\n",
       "       Super Power  Supernatural  Thriller  Vampire  Netflix    mov_sd  \n",
       "200              0             0         0        0        1  0.765461  \n",
       "11857            0             0         0        0        1  0.864212  \n",
       "104              0             0         0        0        1  0.886192  \n",
       "11799            0             0         0        0        1  0.893404  \n",
       "7158             0             0         0        0        1  0.894887  \n",
       "\n",
       "[5 rows x 45 columns]"
      ]
     },
     "execution_count": 161,
     "metadata": {},
     "output_type": "execute_result"
    }
   ],
   "source": [
    "df2[df2.Netflix==1].sort_values(by='mov_sd').head()"
   ]
  },
  {
   "cell_type": "code",
   "execution_count": 171,
   "metadata": {
    "execution": {
     "iopub.execute_input": "2021-04-26T17:23:27.983056Z",
     "iopub.status.busy": "2021-04-26T17:23:27.982850Z",
     "iopub.status.idle": "2021-04-26T17:23:27.989050Z",
     "shell.execute_reply": "2021-04-26T17:23:27.987878Z",
     "shell.execute_reply.started": "2021-04-26T17:23:27.983034Z"
    }
   },
   "outputs": [
    {
     "data": {
      "text/plain": [
       "1.1376015166347413"
      ]
     },
     "execution_count": 171,
     "metadata": {},
     "output_type": "execute_result"
    }
   ],
   "source": [
    "df2.mov_sd.mean()"
   ]
  },
  {
   "cell_type": "code",
   "execution_count": 285,
   "metadata": {
    "execution": {
     "iopub.execute_input": "2021-04-27T19:19:12.861760Z",
     "iopub.status.busy": "2021-04-27T19:19:12.861423Z",
     "iopub.status.idle": "2021-04-27T19:19:13.236678Z",
     "shell.execute_reply": "2021-04-27T19:19:13.235890Z",
     "shell.execute_reply.started": "2021-04-27T19:19:12.861722Z"
    }
   },
   "outputs": [
    {
     "data": {
      "image/png": "[encoded data removed]",
      "text/plain": [
       "<Figure size 1296x720 with 1 Axes>"
      ]
     },
     "metadata": {},
     "output_type": "display_data"
    }
   ],
   "source": [
    "plt.figure(figsize=[18,10])\n",
    "plot = sns.scatterplot(data=df2, x=\"rating_nf\", y=\"mov_sd\")\n",
    "plot.axhline(y=1.14)\n",
    "plot.axvline(x=3.62);\n",
    "plt.savefig('rating_agreement.png');"
   ]
  },
  {
   "cell_type": "code",
   "execution_count": 254,
   "metadata": {
    "execution": {
     "iopub.execute_input": "2021-04-26T18:56:58.513415Z",
     "iopub.status.busy": "2021-04-26T18:56:58.513197Z",
     "iopub.status.idle": "2021-04-26T18:56:58.608308Z",
     "shell.execute_reply": "2021-04-26T18:56:58.607514Z",
     "shell.execute_reply.started": "2021-04-26T18:56:58.513392Z"
    }
   },
   "outputs": [
    {
     "name": "stdout",
     "output_type": "stream",
     "text": [
      "Thriller represents roughly 0.5% of the Netflix Anime catelogue. They are 1.64% of the hr/ha group with a ratio of 3.13\n",
      "Vampire represents roughly 3.7% of the Netflix Anime catelogue. They are 9.84% of the hr/ha group with a ratio of 2.68\n",
      "Supernatural represents roughly 7.9% of the Netflix Anime catelogue. They are 16.39% of the hr/ha group with a ratio of 2.09\n",
      "Samurai represents roughly 1.6% of the Netflix Anime catelogue. They are 3.28% of the hr/ha group with a ratio of 2.09\n",
      "Horror represents roughly 8.9% of the Netflix Anime catelogue. They are 18.03% of the hr/ha group with a ratio of 2.03\n",
      "Parody represents roughly 3.7% of the Netflix Anime catelogue. They are 6.56% of the hr/ha group with a ratio of 1.79\n",
      "Police represents roughly 9.4% of the Netflix Anime catelogue. They are 14.75% of the hr/ha group with a ratio of 1.57\n",
      "Demons represents roughly 1.0% of the Netflix Anime catelogue. They are 1.64% of the hr/ha group with a ratio of 1.57\n",
      "Psychological represents roughly 11.0% of the Netflix Anime catelogue. They are 16.39% of the hr/ha group with a ratio of 1.49\n",
      "Military represents roughly 11.5% of the Netflix Anime catelogue. They are 14.75% of the hr/ha group with a ratio of 1.28\n",
      "Drama represents roughly 35.1% of the Netflix Anime catelogue. They are 42.62% of the hr/ha group with a ratio of 1.22\n",
      "Magic represents roughly 5.8% of the Netflix Anime catelogue. They are 6.56% of the hr/ha group with a ratio of 1.14\n",
      "Mecha represents roughly 21.5% of the Netflix Anime catelogue. They are 22.95% of the hr/ha group with a ratio of 1.07\n",
      "Romance represents roughly 18.3% of the Netflix Anime catelogue. They are 19.67% of the hr/ha group with a ratio of 1.07\n",
      "Sci-Fi represents roughly 47.1% of the Netflix Anime catelogue. They are 49.18% of the hr/ha group with a ratio of 1.04\n",
      "Kids represents roughly 1.6% of the Netflix Anime catelogue. They are 1.64% of the hr/ha group with a ratio of 1.04\n",
      "Super Power represents roughly 4.7% of the Netflix Anime catelogue. They are 4.92% of the hr/ha group with a ratio of 1.04\n"
     ]
    }
   ],
   "source": [
    "for genre in ['Thriller', 'Vampire', 'Supernatural', 'Samurai', 'Horror', 'Parody', 'Police', 'Demons', 'Psychological', 'Military', 'Drama',  'Magic',\n",
    "       'Mecha', 'Romance', 'Sci-Fi','Kids','Super Power']:\n",
    "    print(f'{genre} represents roughly {100*df2[df2.Netflix==1][genre].mean():.1f}% of the Netflix Anime catelogue. They are {100*df2[(df2.hrha==1) & (df2.Netflix==1)][genre].mean():.2f}% of the hr/ha group with a ratio of {df2[(df2.hrha==1) & (df2.Netflix==1)][genre].mean() / df2[df2.Netflix==1][genre].mean():.2f}')"
   ]
  },
  {
   "cell_type": "markdown",
   "metadata": {
    "execution": {
     "iopub.execute_input": "2021-04-26T17:50:36.394556Z",
     "iopub.status.busy": "2021-04-26T17:50:36.394342Z",
     "iopub.status.idle": "2021-04-26T17:50:36.400527Z",
     "shell.execute_reply": "2021-04-26T17:50:36.399102Z",
     "shell.execute_reply.started": "2021-04-26T17:50:36.394534Z"
    }
   },
   "source": [
    "So ... are genres that are disproportionately represented among movies/shows with the highest ratings and highest rating agreement. "
   ]
  },
  {
   "cell_type": "code",
   "execution_count": 247,
   "metadata": {
    "execution": {
     "iopub.execute_input": "2021-04-26T18:33:02.566607Z",
     "iopub.status.busy": "2021-04-26T18:33:02.566340Z",
     "iopub.status.idle": "2021-04-26T18:33:02.633717Z",
     "shell.execute_reply": "2021-04-26T18:33:02.632827Z",
     "shell.execute_reply.started": "2021-04-26T18:33:02.566570Z"
    }
   },
   "outputs": [
    {
     "name": "stdout",
     "output_type": "stream",
     "text": [
      "Number (%) of lr/la movies: 53 (27.7%)\n",
      "Adventure represents roughly 30.9% of the Netflix Anime catelogue. They are 37.74% of the hr/ha group with a ratio of 1.22\n",
      "Comedy represents roughly 32.5% of the Netflix Anime catelogue. They are 33.96% of the hr/ha group with a ratio of 1.05\n",
      "Fantasy represents roughly 14.1% of the Netflix Anime catelogue. They are 15.09% of the hr/ha group with a ratio of 1.07\n",
      "Kids represents roughly 1.6% of the Netflix Anime catelogue. They are 1.89% of the hr/ha group with a ratio of 1.20\n",
      "Martial Arts represents roughly 3.1% of the Netflix Anime catelogue. They are 5.66% of the hr/ha group with a ratio of 1.80\n",
      "Music represents roughly 6.8% of the Netflix Anime catelogue. They are 9.43% of the hr/ha group with a ratio of 1.39\n",
      "Parody represents roughly 3.7% of the Netflix Anime catelogue. They are 3.77% of the hr/ha group with a ratio of 1.03\n",
      "School represents roughly 4.2% of the Netflix Anime catelogue. They are 5.66% of the hr/ha group with a ratio of 1.35\n"
     ]
    }
   ],
   "source": [
    "# Low rated & low agreement movies/shows:\n",
    "df2['lrla']=0\n",
    "df2.loc[(df2.rating_nf < df2.rating_nf.mean()) & (df2.mov_sd > df2.mov_sd.mean()), 'lrla'] = 1\n",
    "print(f'Number (%) of lr/la movies: {df2[(df2.rating_nf < df2.rating_nf.mean()) & (df2.mov_sd > df2.mov_sd.mean())].shape[0]} ({5300/ (df2[df2.Netflix==1].shape[0]):.1f}%)')\n",
    "\n",
    "for genre in ['Adventure', 'Comedy', 'Fantasy', 'Kids', 'Martial Arts', 'Music', 'Parody','School']:\n",
    "    print(f'{genre} represents roughly {100*df2[df2.Netflix==1][genre].mean():.1f}% of the Netflix Anime catelogue. They are {100*df2[(df2.lrla==1) & (df2.Netflix==1)][genre].mean():.2f}% of the hr/ha group with a ratio of {df2[(df2.lrla==1) & (df2.Netflix==1)][genre].mean() / df2[df2.Netflix==1][genre].mean():.2f}')"
   ]
  },
  {
   "cell_type": "markdown",
   "metadata": {
    "execution": {
     "iopub.execute_input": "2021-04-26T18:06:19.707566Z",
     "iopub.status.busy": "2021-04-26T18:06:19.707306Z",
     "iopub.status.idle": "2021-04-26T18:06:19.711694Z",
     "shell.execute_reply": "2021-04-26T18:06:19.710879Z",
     "shell.execute_reply.started": "2021-04-26T18:06:19.707490Z"
    }
   },
   "source": [
    "The Adventure genre appears over-represented among the lr/la group"
   ]
  },
  {
   "cell_type": "code",
   "execution_count": 256,
   "metadata": {
    "execution": {
     "iopub.execute_input": "2021-04-26T18:59:08.575592Z",
     "iopub.status.busy": "2021-04-26T18:59:08.575356Z",
     "iopub.status.idle": "2021-04-26T18:59:08.613255Z",
     "shell.execute_reply": "2021-04-26T18:59:08.612592Z",
     "shell.execute_reply.started": "2021-04-26T18:59:08.575567Z"
    }
   },
   "outputs": [
    {
     "name": "stdout",
     "output_type": "stream",
     "text": [
      "Number (%) of lr/ha movies: 37 (19.4%)\n",
      "Sports represents roughly 2.1% of the Netflix Anime catelogue. They are 8.11% of the hr/ha group with a ratio of 3.87\n",
      "Historical represents roughly 3.1% of the Netflix Anime catelogue. They are 10.81% of the hr/ha group with a ratio of 3.44\n",
      "Samurai represents roughly 1.6% of the Netflix Anime catelogue. They are 2.70% of the hr/ha group with a ratio of 1.72\n",
      "Music represents roughly 6.8% of the Netflix Anime catelogue. They are 10.81% of the hr/ha group with a ratio of 1.59\n",
      "Super Power represents roughly 4.7% of the Netflix Anime catelogue. They are 5.41% of the hr/ha group with a ratio of 1.15\n"
     ]
    }
   ],
   "source": [
    "# Low rated & high agreement movies/shows:\n",
    "df2['lrha']=0\n",
    "df2.loc[(df2.rating_nf < df2.rating_nf.mean()) & (df2.mov_sd < df2.mov_sd.mean()), 'lrha'] = 1\n",
    "print(f'Number (%) of lr/ha movies: {df2[(df2.rating_nf < df2.rating_nf.mean()) & (df2.mov_sd < df2.mov_sd.mean())].shape[0]} ({3700/ (df2[df2.Netflix==1].shape[0]):.1f}%)')\n",
    "\n",
    "for genre in ['Sports','Historical', 'Samurai', 'Music', 'Super Power']:\n",
    "    print(f'{genre} represents roughly {100*df2[df2.Netflix==1][genre].mean():.1f}% of the Netflix Anime catelogue. They are {100*df2[(df2.lrha==1) & (df2.Netflix==1)][genre].mean():.2f}% of the hr/ha group with a ratio of {df2[(df2.lrha==1) & (df2.Netflix==1)][genre].mean() / df2[df2.Netflix==1][genre].mean():.2f}')"
   ]
  },
  {
   "cell_type": "code",
   "execution_count": 257,
   "metadata": {
    "execution": {
     "iopub.execute_input": "2021-04-26T19:02:24.047568Z",
     "iopub.status.busy": "2021-04-26T19:02:24.047366Z",
     "iopub.status.idle": "2021-04-26T19:02:24.051368Z",
     "shell.execute_reply": "2021-04-26T19:02:24.050681Z",
     "shell.execute_reply.started": "2021-04-26T19:02:24.047547Z"
    }
   },
   "outputs": [
    {
     "data": {
      "text/plain": [
       "(12302, 48)"
      ]
     },
     "execution_count": 257,
     "metadata": {},
     "output_type": "execute_result"
    }
   ],
   "source": [
    "Recommendation: Procure more movies/shows with horror, vampire, thriller, supernatural themes.\n",
    "Avoid movies/shows with sport, historical, and samurai themes. "
   ]
  },
  {
   "cell_type": "code",
   "execution_count": 260,
   "metadata": {
    "execution": {
     "iopub.execute_input": "2021-04-26T19:08:09.944365Z",
     "iopub.status.busy": "2021-04-26T19:08:09.944077Z",
     "iopub.status.idle": "2021-04-26T19:08:09.974439Z",
     "shell.execute_reply": "2021-04-26T19:08:09.973480Z",
     "shell.execute_reply.started": "2021-04-26T19:08:09.944333Z"
    }
   },
   "outputs": [
    {
     "data": {
      "text/html": [
       "<div>\n",
       "<style scoped>\n",
       "    .dataframe tbody tr th:only-of-type {\n",
       "        vertical-align: middle;\n",
       "    }\n",
       "\n",
       "    .dataframe tbody tr th {\n",
       "        vertical-align: top;\n",
       "    }\n",
       "\n",
       "    .dataframe thead th {\n",
       "        text-align: right;\n",
       "    }\n",
       "</style>\n",
       "<table border=\"1\" class=\"dataframe\">\n",
       "  <thead>\n",
       "    <tr style=\"text-align: right;\">\n",
       "      <th></th>\n",
       "      <th>movie</th>\n",
       "      <th>title</th>\n",
       "      <th>year_of_release</th>\n",
       "      <th>rating_nf</th>\n",
       "      <th>anime_id</th>\n",
       "      <th>name</th>\n",
       "      <th>genre</th>\n",
       "      <th>type</th>\n",
       "      <th>episodes</th>\n",
       "      <th>rating_a</th>\n",
       "      <th>...</th>\n",
       "      <th>Sports</th>\n",
       "      <th>Super Power</th>\n",
       "      <th>Supernatural</th>\n",
       "      <th>Thriller</th>\n",
       "      <th>Vampire</th>\n",
       "      <th>Netflix</th>\n",
       "      <th>mov_sd</th>\n",
       "      <th>hrha</th>\n",
       "      <th>lrla</th>\n",
       "      <th>lrha</th>\n",
       "    </tr>\n",
       "  </thead>\n",
       "  <tbody>\n",
       "    <tr>\n",
       "      <th>66</th>\n",
       "      <td>NaN</td>\n",
       "      <td>NaN</td>\n",
       "      <td>NaN</td>\n",
       "      <td>NaN</td>\n",
       "      <td>777</td>\n",
       "      <td>Hellsing Ultimate</td>\n",
       "      <td>Action, Horror, Military, Seinen, Supernatural...</td>\n",
       "      <td>OVA</td>\n",
       "      <td>10</td>\n",
       "      <td>8.59</td>\n",
       "      <td>...</td>\n",
       "      <td>0</td>\n",
       "      <td>0</td>\n",
       "      <td>1</td>\n",
       "      <td>0</td>\n",
       "      <td>1</td>\n",
       "      <td>0</td>\n",
       "      <td>NaN</td>\n",
       "      <td>0</td>\n",
       "      <td>0</td>\n",
       "      <td>0</td>\n",
       "    </tr>\n",
       "    <tr>\n",
       "      <th>67</th>\n",
       "      <td>NaN</td>\n",
       "      <td>NaN</td>\n",
       "      <td>NaN</td>\n",
       "      <td>NaN</td>\n",
       "      <td>22535</td>\n",
       "      <td>Kiseijuu: Sei no Kakuritsu</td>\n",
       "      <td>Action, Drama, Horror, Psychological, Sci-Fi, ...</td>\n",
       "      <td>TV</td>\n",
       "      <td>24</td>\n",
       "      <td>8.59</td>\n",
       "      <td>...</td>\n",
       "      <td>0</td>\n",
       "      <td>0</td>\n",
       "      <td>0</td>\n",
       "      <td>0</td>\n",
       "      <td>0</td>\n",
       "      <td>0</td>\n",
       "      <td>NaN</td>\n",
       "      <td>0</td>\n",
       "      <td>0</td>\n",
       "      <td>0</td>\n",
       "    </tr>\n",
       "    <tr>\n",
       "      <th>91</th>\n",
       "      <td>NaN</td>\n",
       "      <td>NaN</td>\n",
       "      <td>NaN</td>\n",
       "      <td>NaN</td>\n",
       "      <td>13125</td>\n",
       "      <td>Shinsekai yori</td>\n",
       "      <td>Drama, Horror, Mystery, Sci-Fi, Supernatural</td>\n",
       "      <td>TV</td>\n",
       "      <td>25</td>\n",
       "      <td>8.53</td>\n",
       "      <td>...</td>\n",
       "      <td>0</td>\n",
       "      <td>0</td>\n",
       "      <td>1</td>\n",
       "      <td>0</td>\n",
       "      <td>0</td>\n",
       "      <td>0</td>\n",
       "      <td>NaN</td>\n",
       "      <td>0</td>\n",
       "      <td>0</td>\n",
       "      <td>0</td>\n",
       "    </tr>\n",
       "    <tr>\n",
       "      <th>109</th>\n",
       "      <td>NaN</td>\n",
       "      <td>NaN</td>\n",
       "      <td>NaN</td>\n",
       "      <td>NaN</td>\n",
       "      <td>2246</td>\n",
       "      <td>Mononoke</td>\n",
       "      <td>Demons, Fantasy, Historical, Horror, Mystery, ...</td>\n",
       "      <td>TV</td>\n",
       "      <td>12</td>\n",
       "      <td>8.49</td>\n",
       "      <td>...</td>\n",
       "      <td>0</td>\n",
       "      <td>0</td>\n",
       "      <td>1</td>\n",
       "      <td>0</td>\n",
       "      <td>0</td>\n",
       "      <td>0</td>\n",
       "      <td>NaN</td>\n",
       "      <td>0</td>\n",
       "      <td>0</td>\n",
       "      <td>0</td>\n",
       "    </tr>\n",
       "    <tr>\n",
       "      <th>198</th>\n",
       "      <td>NaN</td>\n",
       "      <td>NaN</td>\n",
       "      <td>NaN</td>\n",
       "      <td>NaN</td>\n",
       "      <td>12115</td>\n",
       "      <td>Berserk: Ougon Jidai-hen III - Kourin</td>\n",
       "      <td>Action, Adventure, Demons, Drama, Fantasy, Hor...</td>\n",
       "      <td>Movie</td>\n",
       "      <td>1</td>\n",
       "      <td>8.33</td>\n",
       "      <td>...</td>\n",
       "      <td>0</td>\n",
       "      <td>0</td>\n",
       "      <td>1</td>\n",
       "      <td>0</td>\n",
       "      <td>0</td>\n",
       "      <td>0</td>\n",
       "      <td>NaN</td>\n",
       "      <td>0</td>\n",
       "      <td>0</td>\n",
       "      <td>0</td>\n",
       "    </tr>\n",
       "    <tr>\n",
       "      <th>334</th>\n",
       "      <td>NaN</td>\n",
       "      <td>NaN</td>\n",
       "      <td>NaN</td>\n",
       "      <td>NaN</td>\n",
       "      <td>934</td>\n",
       "      <td>Higurashi no Naku Koro ni</td>\n",
       "      <td>Horror, Mystery, Psychological, Supernatural, ...</td>\n",
       "      <td>TV</td>\n",
       "      <td>26</td>\n",
       "      <td>8.17</td>\n",
       "      <td>...</td>\n",
       "      <td>0</td>\n",
       "      <td>0</td>\n",
       "      <td>1</td>\n",
       "      <td>1</td>\n",
       "      <td>0</td>\n",
       "      <td>0</td>\n",
       "      <td>NaN</td>\n",
       "      <td>0</td>\n",
       "      <td>0</td>\n",
       "      <td>0</td>\n",
       "    </tr>\n",
       "    <tr>\n",
       "      <th>365</th>\n",
       "      <td>NaN</td>\n",
       "      <td>NaN</td>\n",
       "      <td>NaN</td>\n",
       "      <td>NaN</td>\n",
       "      <td>1943</td>\n",
       "      <td>Paprika</td>\n",
       "      <td>Fantasy, Horror, Mystery, Psychological, Sci-F...</td>\n",
       "      <td>Movie</td>\n",
       "      <td>1</td>\n",
       "      <td>8.15</td>\n",
       "      <td>...</td>\n",
       "      <td>0</td>\n",
       "      <td>0</td>\n",
       "      <td>0</td>\n",
       "      <td>1</td>\n",
       "      <td>0</td>\n",
       "      <td>0</td>\n",
       "      <td>NaN</td>\n",
       "      <td>0</td>\n",
       "      <td>0</td>\n",
       "      <td>0</td>\n",
       "    </tr>\n",
       "    <tr>\n",
       "      <th>9978</th>\n",
       "      <td>NaN</td>\n",
       "      <td>NaN</td>\n",
       "      <td>NaN</td>\n",
       "      <td>NaN</td>\n",
       "      <td>32660</td>\n",
       "      <td>Petit Petit Muse</td>\n",
       "      <td>Cars, Horror, Kids</td>\n",
       "      <td>TV</td>\n",
       "      <td>26</td>\n",
       "      <td>8.14</td>\n",
       "      <td>...</td>\n",
       "      <td>0</td>\n",
       "      <td>0</td>\n",
       "      <td>0</td>\n",
       "      <td>0</td>\n",
       "      <td>0</td>\n",
       "      <td>0</td>\n",
       "      <td>NaN</td>\n",
       "      <td>0</td>\n",
       "      <td>0</td>\n",
       "      <td>0</td>\n",
       "    </tr>\n",
       "    <tr>\n",
       "      <th>388</th>\n",
       "      <td>NaN</td>\n",
       "      <td>NaN</td>\n",
       "      <td>NaN</td>\n",
       "      <td>NaN</td>\n",
       "      <td>33253</td>\n",
       "      <td>Ajin 2nd Season</td>\n",
       "      <td>Action, Horror, Mystery, Seinen, Supernatural</td>\n",
       "      <td>TV</td>\n",
       "      <td>13</td>\n",
       "      <td>8.12</td>\n",
       "      <td>...</td>\n",
       "      <td>0</td>\n",
       "      <td>0</td>\n",
       "      <td>1</td>\n",
       "      <td>0</td>\n",
       "      <td>0</td>\n",
       "      <td>0</td>\n",
       "      <td>NaN</td>\n",
       "      <td>0</td>\n",
       "      <td>0</td>\n",
       "      <td>0</td>\n",
       "    </tr>\n",
       "    <tr>\n",
       "      <th>412</th>\n",
       "      <td>NaN</td>\n",
       "      <td>NaN</td>\n",
       "      <td>NaN</td>\n",
       "      <td>NaN</td>\n",
       "      <td>34103</td>\n",
       "      <td>Danganronpa 3: The End of Kibougamine Gakuen -...</td>\n",
       "      <td>Action, Horror, Mystery, Psychological</td>\n",
       "      <td>Special</td>\n",
       "      <td>1</td>\n",
       "      <td>8.10</td>\n",
       "      <td>...</td>\n",
       "      <td>0</td>\n",
       "      <td>0</td>\n",
       "      <td>0</td>\n",
       "      <td>0</td>\n",
       "      <td>0</td>\n",
       "      <td>0</td>\n",
       "      <td>NaN</td>\n",
       "      <td>0</td>\n",
       "      <td>0</td>\n",
       "      <td>0</td>\n",
       "    </tr>\n",
       "  </tbody>\n",
       "</table>\n",
       "<p>10 rows × 48 columns</p>\n",
       "</div>"
      ],
      "text/plain": [
       "      movie title  year_of_release  rating_nf  anime_id  \\\n",
       "66      NaN   NaN              NaN        NaN       777   \n",
       "67      NaN   NaN              NaN        NaN     22535   \n",
       "91      NaN   NaN              NaN        NaN     13125   \n",
       "109     NaN   NaN              NaN        NaN      2246   \n",
       "198     NaN   NaN              NaN        NaN     12115   \n",
       "334     NaN   NaN              NaN        NaN       934   \n",
       "365     NaN   NaN              NaN        NaN      1943   \n",
       "9978    NaN   NaN              NaN        NaN     32660   \n",
       "388     NaN   NaN              NaN        NaN     33253   \n",
       "412     NaN   NaN              NaN        NaN     34103   \n",
       "\n",
       "                                                   name  \\\n",
       "66                                    Hellsing Ultimate   \n",
       "67                           Kiseijuu: Sei no Kakuritsu   \n",
       "91                                       Shinsekai yori   \n",
       "109                                            Mononoke   \n",
       "198               Berserk: Ougon Jidai-hen III - Kourin   \n",
       "334                           Higurashi no Naku Koro ni   \n",
       "365                                             Paprika   \n",
       "9978                                   Petit Petit Muse   \n",
       "388                                     Ajin 2nd Season   \n",
       "412   Danganronpa 3: The End of Kibougamine Gakuen -...   \n",
       "\n",
       "                                                  genre     type episodes  \\\n",
       "66    Action, Horror, Military, Seinen, Supernatural...      OVA       10   \n",
       "67    Action, Drama, Horror, Psychological, Sci-Fi, ...       TV       24   \n",
       "91         Drama, Horror, Mystery, Sci-Fi, Supernatural       TV       25   \n",
       "109   Demons, Fantasy, Historical, Horror, Mystery, ...       TV       12   \n",
       "198   Action, Adventure, Demons, Drama, Fantasy, Hor...    Movie        1   \n",
       "334   Horror, Mystery, Psychological, Supernatural, ...       TV       26   \n",
       "365   Fantasy, Horror, Mystery, Psychological, Sci-F...    Movie        1   \n",
       "9978                                 Cars, Horror, Kids       TV       26   \n",
       "388       Action, Horror, Mystery, Seinen, Supernatural       TV       13   \n",
       "412              Action, Horror, Mystery, Psychological  Special        1   \n",
       "\n",
       "      rating_a  ...  Sports Super Power  Supernatural  Thriller  Vampire  \\\n",
       "66        8.59  ...       0           0             1         0        1   \n",
       "67        8.59  ...       0           0             0         0        0   \n",
       "91        8.53  ...       0           0             1         0        0   \n",
       "109       8.49  ...       0           0             1         0        0   \n",
       "198       8.33  ...       0           0             1         0        0   \n",
       "334       8.17  ...       0           0             1         1        0   \n",
       "365       8.15  ...       0           0             0         1        0   \n",
       "9978      8.14  ...       0           0             0         0        0   \n",
       "388       8.12  ...       0           0             1         0        0   \n",
       "412       8.10  ...       0           0             0         0        0   \n",
       "\n",
       "      Netflix  mov_sd  hrha  lrla  lrha  \n",
       "66          0     NaN     0     0     0  \n",
       "67          0     NaN     0     0     0  \n",
       "91          0     NaN     0     0     0  \n",
       "109         0     NaN     0     0     0  \n",
       "198         0     NaN     0     0     0  \n",
       "334         0     NaN     0     0     0  \n",
       "365         0     NaN     0     0     0  \n",
       "9978        0     NaN     0     0     0  \n",
       "388         0     NaN     0     0     0  \n",
       "412         0     NaN     0     0     0  \n",
       "\n",
       "[10 rows x 48 columns]"
      ]
     },
     "execution_count": 260,
     "metadata": {},
     "output_type": "execute_result"
    }
   ],
   "source": [
    "df2[(df2.Netflix==0) & (df2.Horror==1)].sort_values(by='rating_a', ascending=False)[0:10]"
   ]
  },
  {
   "cell_type": "code",
   "execution_count": 263,
   "metadata": {
    "execution": {
     "iopub.execute_input": "2021-04-26T21:23:46.830065Z",
     "iopub.status.busy": "2021-04-26T21:23:46.829818Z",
     "iopub.status.idle": "2021-04-26T21:23:46.964099Z",
     "shell.execute_reply": "2021-04-26T21:23:46.963150Z",
     "shell.execute_reply.started": "2021-04-26T21:23:46.830039Z"
    }
   },
   "outputs": [],
   "source": [
    "df2.to_csv('./df2.csv')"
   ]
  },
  {
   "cell_type": "code",
   "execution_count": 264,
   "metadata": {
    "execution": {
     "iopub.execute_input": "2021-04-26T23:08:20.795627Z",
     "iopub.status.busy": "2021-04-26T23:08:20.790960Z",
     "iopub.status.idle": "2021-04-26T23:08:20.855262Z",
     "shell.execute_reply": "2021-04-26T23:08:20.854522Z",
     "shell.execute_reply.started": "2021-04-26T23:08:20.795494Z"
    }
   },
   "outputs": [
    {
     "data": {
      "text/plain": [
       "TV         3787\n",
       "OVA        3313\n",
       "Movie      2355\n",
       "Special    1676\n",
       "ONA         658\n",
       "Music       488\n",
       "Name: type, dtype: int64"
      ]
     },
     "execution_count": 264,
     "metadata": {},
     "output_type": "execute_result"
    }
   ],
   "source": [
    "df2.type.value_counts()"
   ]
  },
  {
   "cell_type": "code",
   "execution_count": 265,
   "metadata": {
    "execution": {
     "iopub.execute_input": "2021-04-26T23:08:47.817872Z",
     "iopub.status.busy": "2021-04-26T23:08:47.817590Z",
     "iopub.status.idle": "2021-04-26T23:08:47.833459Z",
     "shell.execute_reply": "2021-04-26T23:08:47.832256Z",
     "shell.execute_reply.started": "2021-04-26T23:08:47.817842Z"
    }
   },
   "outputs": [
    {
     "data": {
      "text/plain": [
       "TV         79\n",
       "Movie      52\n",
       "OVA        47\n",
       "Music       6\n",
       "ONA         5\n",
       "Special     2\n",
       "Name: type, dtype: int64"
      ]
     },
     "execution_count": 265,
     "metadata": {},
     "output_type": "execute_result"
    }
   ],
   "source": [
    "df2[df2.Netflix==1].type.value_counts()"
   ]
  },
  {
   "cell_type": "code",
   "execution_count": 266,
   "metadata": {
    "execution": {
     "iopub.execute_input": "2021-04-26T23:41:52.386368Z",
     "iopub.status.busy": "2021-04-26T23:41:52.386123Z",
     "iopub.status.idle": "2021-04-26T23:41:52.568700Z",
     "shell.execute_reply": "2021-04-26T23:41:52.567990Z",
     "shell.execute_reply.started": "2021-04-26T23:41:52.386342Z"
    }
   },
   "outputs": [
    {
     "name": "stdout",
     "output_type": "stream",
     "text": [
      "creating the dataframe from data.csv file..\n"
     ]
    }
   ],
   "source": [
    "print('creating the dataframe from data.csv file..')\n",
    "df = pd.read_csv('Anime_Top10000.csv', sep=',')"
   ]
  },
  {
   "cell_type": "code",
   "execution_count": 284,
   "metadata": {
    "execution": {
     "iopub.execute_input": "2021-04-27T18:48:29.408095Z",
     "iopub.status.busy": "2021-04-27T18:48:29.407839Z",
     "iopub.status.idle": "2021-04-27T18:48:29.430037Z",
     "shell.execute_reply": "2021-04-27T18:48:29.428696Z",
     "shell.execute_reply.started": "2021-04-27T18:48:29.408067Z"
    }
   },
   "outputs": [
    {
     "data": {
      "text/html": [
       "<div>\n",
       "<style scoped>\n",
       "    .dataframe tbody tr th:only-of-type {\n",
       "        vertical-align: middle;\n",
       "    }\n",
       "\n",
       "    .dataframe tbody tr th {\n",
       "        vertical-align: top;\n",
       "    }\n",
       "\n",
       "    .dataframe thead th {\n",
       "        text-align: right;\n",
       "    }\n",
       "</style>\n",
       "<table border=\"1\" class=\"dataframe\">\n",
       "  <thead>\n",
       "    <tr style=\"text-align: right;\">\n",
       "      <th></th>\n",
       "      <th>Anime_Name</th>\n",
       "      <th>Anime_Episodes</th>\n",
       "      <th>Anime_Air_Years</th>\n",
       "      <th>Anime_Rating</th>\n",
       "      <th>Synopsis</th>\n",
       "    </tr>\n",
       "  </thead>\n",
       "  <tbody>\n",
       "    <tr>\n",
       "      <th>1057</th>\n",
       "      <td>Fruits Basket</td>\n",
       "      <td>TV (26 eps)</td>\n",
       "      <td>Jul 2001 - Dec 2001</td>\n",
       "      <td>7.69</td>\n",
       "      <td>After the accident in which she lost her mother, 16-year-old Tooru moves in with her grandfather, but due to his home being renovated, is unable to continue living with him. Claiming she will find someone to stay with but also fearing the criticism of her family and not wanting to burden any of her friends, Tooru resorts to secretly living on her own in a tent in the woods.\\n\\r\\nOne night on her way back from work, she finds her tent buried underneath a landslide. Yuki Souma, the \"prince\" of her school, and his cousin Shigure Souma, a famous author, stumble across Tooru's situation and invite her to stay with them until her grandfather's home renovations are complete.\\n\\r\\nUpon arriving at the Souma house, Tooru discovers their secret: if a Souma is hugged by someone of the opposite gender, they temporarily transform into one of the animals of the zodiac! However, this strange phenomenon is no laughing matter; rather, it is a terrible curse that holds a dark history. As she continues her journey, meeting more members of the zodiac family, will Tooru's kindhearted yet resilient nature be enough to prepare her for what lies behind the Souma household's doors?\\n\\r\\n[Written by MAL Rewrite]</td>\n",
       "    </tr>\n",
       "  </tbody>\n",
       "</table>\n",
       "</div>"
      ],
      "text/plain": [
       "         Anime_Name Anime_Episodes      Anime_Air_Years  Anime_Rating  \\\n",
       "1057  Fruits Basket    TV (26 eps)  Jul 2001 - Dec 2001          7.69   \n",
       "\n",
       "                                                                                                                                                                                                                                                                                                                                                                                                                                                                                                                                                                                                                                                                                                                                                                                                                                                                                                                                                                                                                                                                                                                                                                                                                                                   Synopsis  \n",
       "1057  After the accident in which she lost her mother, 16-year-old Tooru moves in with her grandfather, but due to his home being renovated, is unable to continue living with him. Claiming she will find someone to stay with but also fearing the criticism of her family and not wanting to burden any of her friends, Tooru resorts to secretly living on her own in a tent in the woods.\\n\\r\\nOne night on her way back from work, she finds her tent buried underneath a landslide. Yuki Souma, the \"prince\" of her school, and his cousin Shigure Souma, a famous author, stumble across Tooru's situation and invite her to stay with them until her grandfather's home renovations are complete.\\n\\r\\nUpon arriving at the Souma house, Tooru discovers their secret: if a Souma is hugged by someone of the opposite gender, they temporarily transform into one of the animals of the zodiac! However, this strange phenomenon is no laughing matter; rather, it is a terrible curse that holds a dark history. As she continues her journey, meeting more members of the zodiac family, will Tooru's kindhearted yet resilient nature be enough to prepare her for what lies behind the Souma household's doors?\\n\\r\\n[Written by MAL Rewrite]  "
      ]
     },
     "execution_count": 284,
     "metadata": {},
     "output_type": "execute_result"
    }
   ],
   "source": [
    "pd.set_option('display.max_colwidth', None)\n",
    "df[df.Anime_Name == \"Fruits Basket\"]"
   ]
  },
  {
   "cell_type": "code",
   "execution_count": 286,
   "metadata": {
    "execution": {
     "iopub.execute_input": "2021-04-27T20:17:51.193908Z",
     "iopub.status.busy": "2021-04-27T20:17:51.193677Z",
     "iopub.status.idle": "2021-04-27T20:17:51.243368Z",
     "shell.execute_reply": "2021-04-27T20:17:51.236129Z",
     "shell.execute_reply.started": "2021-04-27T20:17:51.193886Z"
    }
   },
   "outputs": [
    {
     "data": {
      "text/html": [
       "<div>\n",
       "<style scoped>\n",
       "    .dataframe tbody tr th:only-of-type {\n",
       "        vertical-align: middle;\n",
       "    }\n",
       "\n",
       "    .dataframe tbody tr th {\n",
       "        vertical-align: top;\n",
       "    }\n",
       "\n",
       "    .dataframe thead th {\n",
       "        text-align: right;\n",
       "    }\n",
       "</style>\n",
       "<table border=\"1\" class=\"dataframe\">\n",
       "  <thead>\n",
       "    <tr style=\"text-align: right;\">\n",
       "      <th></th>\n",
       "      <th>Anime_Name</th>\n",
       "      <th>Anime_Episodes</th>\n",
       "      <th>Anime_Air_Years</th>\n",
       "      <th>Anime_Rating</th>\n",
       "      <th>Synopsis</th>\n",
       "    </tr>\n",
       "  </thead>\n",
       "  <tbody>\n",
       "    <tr>\n",
       "      <th>0</th>\n",
       "      <td>Fullmetal Alchemist: Brotherhood</td>\n",
       "      <td>TV (64 eps)</td>\n",
       "      <td>Apr 2009 - Jul 2010</td>\n",
       "      <td>9.18</td>\n",
       "      <td>\"In order for something to be obtained, something of equal value must be lost.\"\\n\\r\\nAlchemy is bound by this Law of Equivalent Exchange—something the young brothers Edward and Alphonse Elric only realize after attempting human transmutation: the one forbidden act of alchemy. They pay a terrible price for their transgression—Edward loses his left leg, Alphonse his physical body. It is only by the desperate sacrifice of Edward's right arm that he is able to affix Alphonse's soul to a suit of armor. Devastated and alone, it is the hope that they would both eventually return to their original bodies that gives Edward the inspiration to obtain metal limbs called \"automail\" and become a state alchemist, the Fullmetal Alchemist.\\n\\r\\nThree years of searching later, the brothers seek the Philosopher's Stone, a mythical relic that allows an alchemist to overcome the Law of Equivalent Exchange. Even with military allies Colonel Roy Mustang, Lieutenant Riza Hawkeye, and Lieutenant Colonel Maes Hughes on their side, the brothers find themselves caught up in a nationwide conspiracy that leads them not only to the true nature of the elusive Philosopher's Stone, but their country's murky history as well. In between finding a serial killer and racing against time, Edward and Alphonse must ask themselves if what they are doing will make them human again... or take away their humanity.\\n\\r\\n[Written by MAL Rewrite]</td>\n",
       "    </tr>\n",
       "    <tr>\n",
       "      <th>1</th>\n",
       "      <td>Shingeki no Kyojin Season 3 Part 2</td>\n",
       "      <td>TV (10 eps)</td>\n",
       "      <td>Apr 2019 - Jul 2019</td>\n",
       "      <td>9.11</td>\n",
       "      <td>Seeking to restore humanity's diminishing hope, the Survey Corps embark on a mission to retake Wall Maria, where the battle against the merciless \"Titans\" takes the stage once again.\\n\\r\\nReturning to the tattered Shiganshina District that was once his home, Eren Yeager and the Corps find the town oddly unoccupied by Titans. Even after the outer gate is plugged, they strangely encounter no opposition. The mission progresses smoothly until Armin Arlert, highly suspicious of the enemy's absence, discovers distressing signs of a potential scheme against them. \\n\\nShingeki no Kyojin Season 3 Part 2 follows Eren as he vows to take back everything that was once his. Alongside him, the Survey Corps strive—through countless sacrifices—to carve a path towards victory and uncover the secrets locked away in the Yeager family's basement.\\n\\r\\n[Written by MAL Rewrite]</td>\n",
       "    </tr>\n",
       "    <tr>\n",
       "      <th>2</th>\n",
       "      <td>Steins;Gate</td>\n",
       "      <td>TV (24 eps)</td>\n",
       "      <td>Apr 2011 - Sep 2011</td>\n",
       "      <td>9.11</td>\n",
       "      <td>The self-proclaimed mad scientist Rintarou Okabe rents out a room in a rickety old building in Akihabara, where he indulges himself in his hobby of inventing prospective \"future gadgets\" with fellow lab members: Mayuri Shiina, his air-headed childhood friend, and Hashida Itaru, a perverted hacker nicknamed \"Daru.\" The three pass the time by tinkering with their most promising contraption yet, a machine dubbed the \"Phone Microwave,\" which performs the strange function of morphing bananas into piles of green gel.\\n\\r\\nThough miraculous in itself, the phenomenon doesn't provide anything concrete in Okabe's search for a scientific breakthrough; that is, until the lab members are spurred into action by a string of mysterious happenings before stumbling upon an unexpected success—the Phone Microwave can send emails to the past, altering the flow of history.\\n\\r\\nAdapted from the critically acclaimed visual novel by 5pb. and Nitroplus, Steins;Gate takes Okabe through the depths of scientific theory and practicality. Forced across the diverging threads of past and present, Okabe must shoulder the burdens that come with holding the key to the realm of time.\\n\\r\\n[Written by MAL Rewrite]</td>\n",
       "    </tr>\n",
       "    <tr>\n",
       "      <th>3</th>\n",
       "      <td>Gintama°</td>\n",
       "      <td>TV (51 eps)</td>\n",
       "      <td>Apr 2015 - Mar 2016</td>\n",
       "      <td>9.09</td>\n",
       "      <td>Gintoki, Shinpachi, and Kagura return as the fun-loving but broke members of the Yorozuya team! Living in an alternate-reality Edo, where swords are prohibited and alien overlords have conquered Japan, they try to thrive on doing whatever work they can get their hands on. However, Shinpachi and Kagura still haven't been paid... Does Gin-chan really spend all that cash playing pachinko?\\n\\r\\nMeanwhile, when Gintoki drunkenly staggers home one night, an alien spaceship crashes nearby. A fatally injured crew member emerges from the ship and gives Gintoki a strange, clock-shaped device, warning him that it is incredibly powerful and must be safeguarded. Mistaking it for his alarm clock, Gintoki proceeds to smash the device the next morning and suddenly discovers that the world outside his apartment has come to a standstill. With Kagura and Shinpachi at his side, he sets off to get the device fixed; though, as usual, nothing is ever that simple for the Yorozuya team.\\n\\r\\nFilled with tongue-in-cheek humor and moments of heartfelt emotion, Gintama's fourth season finds Gintoki and his friends facing both their most hilarious misadventures and most dangerous crises yet.\\n\\r\\n[Written by MAL Rewrite]</td>\n",
       "    </tr>\n",
       "    <tr>\n",
       "      <th>4</th>\n",
       "      <td>Hunter x Hunter (2011)</td>\n",
       "      <td>TV (148 eps)</td>\n",
       "      <td>Oct 2011 - Sep 2014</td>\n",
       "      <td>9.08</td>\n",
       "      <td>Hunter x Hunter is set in a world where Hunters exist to perform all manner of dangerous tasks like capturing criminals and bravely searching for lost treasures in uncharted territories. Twelve-year-old Gon Freecss is determined to become the best Hunter possible in hopes of finding his father, who was a Hunter himself and had long ago abandoned his young son. However, Gon soon realizes the path to achieving his goals is far more challenging than he could have ever imagined.\\n\\r\\nAlong the way to becoming an official Hunter, Gon befriends the lively doctor-in-training Leorio, vengeful Kurapika, and rebellious ex-assassin Killua. To attain their own goals and desires, together the four of them take the Hunter Exam, notorious for its low success rate and high probability of death. Throughout their journey, Gon and his friends embark on an adventure that puts them through many hardships and struggles. They will meet a plethora of monsters, creatures, and characters—all while learning what being a Hunter truly means.\\n\\r\\n[Written by MAL Rewrite]</td>\n",
       "    </tr>\n",
       "    <tr>\n",
       "      <th>...</th>\n",
       "      <td>...</td>\n",
       "      <td>...</td>\n",
       "      <td>...</td>\n",
       "      <td>...</td>\n",
       "      <td>...</td>\n",
       "    </tr>\n",
       "    <tr>\n",
       "      <th>9995</th>\n",
       "      <td>Animagear</td>\n",
       "      <td>ONA (1 eps)</td>\n",
       "      <td>Jul 2019 - Jul 2019</td>\n",
       "      <td>5.43</td>\n",
       "      <td>Stop motion animation of aliens on a guided tour around an amusement park. \\n\\n(Source: AniDB)</td>\n",
       "    </tr>\n",
       "    <tr>\n",
       "      <th>9996</th>\n",
       "      <td>Cheating Craft</td>\n",
       "      <td>TV (12 eps)</td>\n",
       "      <td>Oct 2016 - Dec 2016</td>\n",
       "      <td>5.43</td>\n",
       "      <td>A music video-style advertisement for Lotte's Yukimi Daifuku, a mochi ice cream.</td>\n",
       "    </tr>\n",
       "    <tr>\n",
       "      <th>9997</th>\n",
       "      <td>Circuit Angel: Ketsui no Starting Grid</td>\n",
       "      <td>OVA (1 eps)</td>\n",
       "      <td>May 1987 - May 1987</td>\n",
       "      <td>5.43</td>\n",
       "      <td>Nobumasa is a boy who works part-time in a shoe store, where he meets Mizuki, a girl whose abusive family life has left her unable to trust other people. Meanwhile, Nobumasa is unaware that another girl, Seiko, has a crush on him but is unable to express her feelings.\\n\\r\\n(Source: The Anime Encyclopedia)</td>\n",
       "    </tr>\n",
       "    <tr>\n",
       "      <th>9998</th>\n",
       "      <td>Dengeki Oshioki Musume Gootaman R: Ai to Kanashimi no Final Battle</td>\n",
       "      <td>OVA (1 eps)</td>\n",
       "      <td>Oct 1994 - Oct 1994</td>\n",
       "      <td>5.43</td>\n",
       "      <td>Recap episodes of Ai Tenchi Muyou!</td>\n",
       "    </tr>\n",
       "    <tr>\n",
       "      <th>9999</th>\n",
       "      <td>Fairy Ranmaru: Anata no Kokoro Otasuke Shimasu</td>\n",
       "      <td>TV (12 eps)</td>\n",
       "      <td>Apr 2021 -</td>\n",
       "      <td>5.43</td>\n",
       "      <td>Toru Matsumoto's official music video with Mirai Mizue's interesting hypnotical-rhythmical animation.</td>\n",
       "    </tr>\n",
       "  </tbody>\n",
       "</table>\n",
       "<p>10000 rows × 5 columns</p>\n",
       "</div>"
      ],
      "text/plain": [
       "                                                              Anime_Name  \\\n",
       "0                                       Fullmetal Alchemist: Brotherhood   \n",
       "1                                     Shingeki no Kyojin Season 3 Part 2   \n",
       "2                                                            Steins;Gate   \n",
       "3                                                               Gintama°   \n",
       "4                                                 Hunter x Hunter (2011)   \n",
       "...                                                                  ...   \n",
       "9995                                                           Animagear   \n",
       "9996                                                      Cheating Craft   \n",
       "9997                              Circuit Angel: Ketsui no Starting Grid   \n",
       "9998  Dengeki Oshioki Musume Gootaman R: Ai to Kanashimi no Final Battle   \n",
       "9999                      Fairy Ranmaru: Anata no Kokoro Otasuke Shimasu   \n",
       "\n",
       "     Anime_Episodes      Anime_Air_Years  Anime_Rating  \\\n",
       "0       TV (64 eps)  Apr 2009 - Jul 2010          9.18   \n",
       "1       TV (10 eps)  Apr 2019 - Jul 2019          9.11   \n",
       "2       TV (24 eps)  Apr 2011 - Sep 2011          9.11   \n",
       "3       TV (51 eps)  Apr 2015 - Mar 2016          9.09   \n",
       "4      TV (148 eps)  Oct 2011 - Sep 2014          9.08   \n",
       "...             ...                  ...           ...   \n",
       "9995    ONA (1 eps)  Jul 2019 - Jul 2019          5.43   \n",
       "9996    TV (12 eps)  Oct 2016 - Dec 2016          5.43   \n",
       "9997    OVA (1 eps)  May 1987 - May 1987          5.43   \n",
       "9998    OVA (1 eps)  Oct 1994 - Oct 1994          5.43   \n",
       "9999    TV (12 eps)           Apr 2021 -          5.43   \n",
       "\n",
       "                                                                                                                                                                                                                                                                                                                                                                                                                                                                                                                                                                                                                                                                                                                                                                                                                                                                                                                                                                                                                                                                                                                                                                                                                                                                                                                                                                                                                                                                           Synopsis  \n",
       "0     \"In order for something to be obtained, something of equal value must be lost.\"\\n\\r\\nAlchemy is bound by this Law of Equivalent Exchange—something the young brothers Edward and Alphonse Elric only realize after attempting human transmutation: the one forbidden act of alchemy. They pay a terrible price for their transgression—Edward loses his left leg, Alphonse his physical body. It is only by the desperate sacrifice of Edward's right arm that he is able to affix Alphonse's soul to a suit of armor. Devastated and alone, it is the hope that they would both eventually return to their original bodies that gives Edward the inspiration to obtain metal limbs called \"automail\" and become a state alchemist, the Fullmetal Alchemist.\\n\\r\\nThree years of searching later, the brothers seek the Philosopher's Stone, a mythical relic that allows an alchemist to overcome the Law of Equivalent Exchange. Even with military allies Colonel Roy Mustang, Lieutenant Riza Hawkeye, and Lieutenant Colonel Maes Hughes on their side, the brothers find themselves caught up in a nationwide conspiracy that leads them not only to the true nature of the elusive Philosopher's Stone, but their country's murky history as well. In between finding a serial killer and racing against time, Edward and Alphonse must ask themselves if what they are doing will make them human again... or take away their humanity.\\n\\r\\n[Written by MAL Rewrite]  \n",
       "1                                                                                                                                                                                                                                                                                                                                                                                                                                                                                                                                                                               Seeking to restore humanity's diminishing hope, the Survey Corps embark on a mission to retake Wall Maria, where the battle against the merciless \"Titans\" takes the stage once again.\\n\\r\\nReturning to the tattered Shiganshina District that was once his home, Eren Yeager and the Corps find the town oddly unoccupied by Titans. Even after the outer gate is plugged, they strangely encounter no opposition. The mission progresses smoothly until Armin Arlert, highly suspicious of the enemy's absence, discovers distressing signs of a potential scheme against them. \\n\\nShingeki no Kyojin Season 3 Part 2 follows Eren as he vows to take back everything that was once his. Alongside him, the Survey Corps strive—through countless sacrifices—to carve a path towards victory and uncover the secrets locked away in the Yeager family's basement.\\n\\r\\n[Written by MAL Rewrite]  \n",
       "2                                                                                                                                                                                                                                      The self-proclaimed mad scientist Rintarou Okabe rents out a room in a rickety old building in Akihabara, where he indulges himself in his hobby of inventing prospective \"future gadgets\" with fellow lab members: Mayuri Shiina, his air-headed childhood friend, and Hashida Itaru, a perverted hacker nicknamed \"Daru.\" The three pass the time by tinkering with their most promising contraption yet, a machine dubbed the \"Phone Microwave,\" which performs the strange function of morphing bananas into piles of green gel.\\n\\r\\nThough miraculous in itself, the phenomenon doesn't provide anything concrete in Okabe's search for a scientific breakthrough; that is, until the lab members are spurred into action by a string of mysterious happenings before stumbling upon an unexpected success—the Phone Microwave can send emails to the past, altering the flow of history.\\n\\r\\nAdapted from the critically acclaimed visual novel by 5pb. and Nitroplus, Steins;Gate takes Okabe through the depths of scientific theory and practicality. Forced across the diverging threads of past and present, Okabe must shoulder the burdens that come with holding the key to the realm of time.\\n\\r\\n[Written by MAL Rewrite]  \n",
       "3                                                                                                                                                                                                                       Gintoki, Shinpachi, and Kagura return as the fun-loving but broke members of the Yorozuya team! Living in an alternate-reality Edo, where swords are prohibited and alien overlords have conquered Japan, they try to thrive on doing whatever work they can get their hands on. However, Shinpachi and Kagura still haven't been paid... Does Gin-chan really spend all that cash playing pachinko?\\n\\r\\nMeanwhile, when Gintoki drunkenly staggers home one night, an alien spaceship crashes nearby. A fatally injured crew member emerges from the ship and gives Gintoki a strange, clock-shaped device, warning him that it is incredibly powerful and must be safeguarded. Mistaking it for his alarm clock, Gintoki proceeds to smash the device the next morning and suddenly discovers that the world outside his apartment has come to a standstill. With Kagura and Shinpachi at his side, he sets off to get the device fixed; though, as usual, nothing is ever that simple for the Yorozuya team.\\n\\r\\nFilled with tongue-in-cheek humor and moments of heartfelt emotion, Gintama's fourth season finds Gintoki and his friends facing both their most hilarious misadventures and most dangerous crises yet.\\n\\r\\n[Written by MAL Rewrite]  \n",
       "4                                                                                                                                                                                                                                                                                                                                                                                Hunter x Hunter is set in a world where Hunters exist to perform all manner of dangerous tasks like capturing criminals and bravely searching for lost treasures in uncharted territories. Twelve-year-old Gon Freecss is determined to become the best Hunter possible in hopes of finding his father, who was a Hunter himself and had long ago abandoned his young son. However, Gon soon realizes the path to achieving his goals is far more challenging than he could have ever imagined.\\n\\r\\nAlong the way to becoming an official Hunter, Gon befriends the lively doctor-in-training Leorio, vengeful Kurapika, and rebellious ex-assassin Killua. To attain their own goals and desires, together the four of them take the Hunter Exam, notorious for its low success rate and high probability of death. Throughout their journey, Gon and his friends embark on an adventure that puts them through many hardships and struggles. They will meet a plethora of monsters, creatures, and characters—all while learning what being a Hunter truly means.\\n\\r\\n[Written by MAL Rewrite]  \n",
       "...                                                                                                                                                                                                                                                                                                                                                                                                                                                                                                                                                                                                                                                                                                                                                                                                                                                                                                                                                                                                                                                                                                                                                                                                                                                                                                                                                                                                                                                                             ...  \n",
       "9995                                                                                                                                                                                                                                                                                                                                                                                                                                                                                                                                                                                                                                                                                                                                                                                                                                                                                                                                                                                                                                                                                                                                                                                                                                                                                                                                                                                Stop motion animation of aliens on a guided tour around an amusement park. \\n\\n(Source: AniDB)   \n",
       "9996                                                                                                                                                                                                                                                                                                                                                                                                                                                                                                                                                                                                                                                                                                                                                                                                                                                                                                                                                                                                                                                                                                                                                                                                                                                                                                                                                                                               A music video-style advertisement for Lotte's Yukimi Daifuku, a mochi ice cream.  \n",
       "9997                                                                                                                                                                                                                                                                                                                                                                                                                                                                                                                                                                                                                                                                                                                                                                                                                                                                                                                                                                                                                                                                                                                                                             Nobumasa is a boy who works part-time in a shoe store, where he meets Mizuki, a girl whose abusive family life has left her unable to trust other people. Meanwhile, Nobumasa is unaware that another girl, Seiko, has a crush on him but is unable to express her feelings.\\n\\r\\n(Source: The Anime Encyclopedia)  \n",
       "9998                                                                                                                                                                                                                                                                                                                                                                                                                                                                                                                                                                                                                                                                                                                                                                                                                                                                                                                                                                                                                                                                                                                                                                                                                                                                                                                                                                                                                                             Recap episodes of Ai Tenchi Muyou!  \n",
       "9999                                                                                                                                                                                                                                                                                                                                                                                                                                                                                                                                                                                                                                                                                                                                                                                                                                                                                                                                                                                                                                                                                                                                                                                                                                                                                                                                                                          Toru Matsumoto's official music video with Mirai Mizue's interesting hypnotical-rhythmical animation.  \n",
       "\n",
       "[10000 rows x 5 columns]"
      ]
     },
     "execution_count": 286,
     "metadata": {},
     "output_type": "execute_result"
    }
   ],
   "source": [
    "df"
   ]
  },
  {
   "cell_type": "code",
   "execution_count": null,
   "metadata": {},
   "outputs": [],
   "source": []
  }
 ],
 "metadata": {
  "kernelspec": {
   "display_name": "Python [conda env:metis]",
   "language": "python",
   "name": "conda-env-metis-py"
  },
  "language_info": {
   "codemirror_mode": {
    "name": "ipython",
    "version": 3
   },
   "file_extension": ".py",
   "mimetype": "text/x-python",
   "name": "python",
   "nbconvert_exporter": "python",
   "pygments_lexer": "ipython3",
   "version": "3.8.8"
  }
 },
 "nbformat": 4,
 "nbformat_minor": 4
}
